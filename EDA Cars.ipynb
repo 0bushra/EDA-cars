{
 "cells": [
  {
   "cell_type": "markdown",
   "id": "11446c2e",
   "metadata": {},
   "source": [
    "# EDA about Cars \n"
   ]
  },
  {
   "cell_type": "code",
   "execution_count": 43,
   "id": "5ec46730",
   "metadata": {},
   "outputs": [],
   "source": [
    "import numpy as np \n",
    "import pandas as pd \n",
    "import seaborn as sns\n",
    "import matplotlib.pyplot as plt\n",
    "\n",
    "import plotly.graph_objs as go\n",
    "import plotly.express as px"
   ]
  },
  {
   "cell_type": "code",
   "execution_count": 2,
   "id": "66331240",
   "metadata": {},
   "outputs": [
    {
     "data": {
      "text/html": [
       "<div>\n",
       "<style scoped>\n",
       "    .dataframe tbody tr th:only-of-type {\n",
       "        vertical-align: middle;\n",
       "    }\n",
       "\n",
       "    .dataframe tbody tr th {\n",
       "        vertical-align: top;\n",
       "    }\n",
       "\n",
       "    .dataframe thead th {\n",
       "        text-align: right;\n",
       "    }\n",
       "</style>\n",
       "<table border=\"1\" class=\"dataframe\">\n",
       "  <thead>\n",
       "    <tr style=\"text-align: right;\">\n",
       "      <th></th>\n",
       "      <th>name</th>\n",
       "      <th>year</th>\n",
       "      <th>selling_price</th>\n",
       "      <th>km_driven</th>\n",
       "      <th>fuel</th>\n",
       "      <th>seller_type</th>\n",
       "      <th>transmission</th>\n",
       "      <th>owner</th>\n",
       "    </tr>\n",
       "  </thead>\n",
       "  <tbody>\n",
       "    <tr>\n",
       "      <th>0</th>\n",
       "      <td>Maruti 800 AC</td>\n",
       "      <td>2007</td>\n",
       "      <td>60000</td>\n",
       "      <td>70000</td>\n",
       "      <td>Petrol</td>\n",
       "      <td>Individual</td>\n",
       "      <td>Manual</td>\n",
       "      <td>First Owner</td>\n",
       "    </tr>\n",
       "    <tr>\n",
       "      <th>1</th>\n",
       "      <td>Maruti Wagon R LXI Minor</td>\n",
       "      <td>2007</td>\n",
       "      <td>135000</td>\n",
       "      <td>50000</td>\n",
       "      <td>Petrol</td>\n",
       "      <td>Individual</td>\n",
       "      <td>Manual</td>\n",
       "      <td>First Owner</td>\n",
       "    </tr>\n",
       "    <tr>\n",
       "      <th>2</th>\n",
       "      <td>Hyundai Verna 1.6 SX</td>\n",
       "      <td>2012</td>\n",
       "      <td>600000</td>\n",
       "      <td>100000</td>\n",
       "      <td>Diesel</td>\n",
       "      <td>Individual</td>\n",
       "      <td>Manual</td>\n",
       "      <td>First Owner</td>\n",
       "    </tr>\n",
       "    <tr>\n",
       "      <th>3</th>\n",
       "      <td>Datsun RediGO T Option</td>\n",
       "      <td>2017</td>\n",
       "      <td>250000</td>\n",
       "      <td>46000</td>\n",
       "      <td>Petrol</td>\n",
       "      <td>Individual</td>\n",
       "      <td>Manual</td>\n",
       "      <td>First Owner</td>\n",
       "    </tr>\n",
       "    <tr>\n",
       "      <th>4</th>\n",
       "      <td>Honda Amaze VX i-DTEC</td>\n",
       "      <td>2014</td>\n",
       "      <td>450000</td>\n",
       "      <td>141000</td>\n",
       "      <td>Diesel</td>\n",
       "      <td>Individual</td>\n",
       "      <td>Manual</td>\n",
       "      <td>Second Owner</td>\n",
       "    </tr>\n",
       "  </tbody>\n",
       "</table>\n",
       "</div>"
      ],
      "text/plain": [
       "                       name  year  selling_price  km_driven    fuel  \\\n",
       "0             Maruti 800 AC  2007          60000      70000  Petrol   \n",
       "1  Maruti Wagon R LXI Minor  2007         135000      50000  Petrol   \n",
       "2      Hyundai Verna 1.6 SX  2012         600000     100000  Diesel   \n",
       "3    Datsun RediGO T Option  2017         250000      46000  Petrol   \n",
       "4     Honda Amaze VX i-DTEC  2014         450000     141000  Diesel   \n",
       "\n",
       "  seller_type transmission         owner  \n",
       "0  Individual       Manual   First Owner  \n",
       "1  Individual       Manual   First Owner  \n",
       "2  Individual       Manual   First Owner  \n",
       "3  Individual       Manual   First Owner  \n",
       "4  Individual       Manual  Second Owner  "
      ]
     },
     "execution_count": 2,
     "metadata": {},
     "output_type": "execute_result"
    }
   ],
   "source": [
    "df=pd.read_csv(r\"C:\\Users\\DELL\\Downloads\\CAR DETAILS FROM CAR DEKHO.csv\")\n",
    "df.head()\n"
   ]
  },
  {
   "cell_type": "markdown",
   "id": "22278857",
   "metadata": {},
   "source": [
    "# Understand the Data and Data Cleaning"
   ]
  },
  {
   "cell_type": "code",
   "execution_count": 3,
   "id": "98364828",
   "metadata": {},
   "outputs": [
    {
     "name": "stdout",
     "output_type": "stream",
     "text": [
      "<class 'pandas.core.frame.DataFrame'>\n",
      "RangeIndex: 4340 entries, 0 to 4339\n",
      "Data columns (total 8 columns):\n",
      " #   Column         Non-Null Count  Dtype \n",
      "---  ------         --------------  ----- \n",
      " 0   name           4340 non-null   object\n",
      " 1   year           4340 non-null   int64 \n",
      " 2   selling_price  4340 non-null   int64 \n",
      " 3   km_driven      4340 non-null   int64 \n",
      " 4   fuel           4340 non-null   object\n",
      " 5   seller_type    4340 non-null   object\n",
      " 6   transmission   4340 non-null   object\n",
      " 7   owner          4340 non-null   object\n",
      "dtypes: int64(3), object(5)\n",
      "memory usage: 271.4+ KB\n"
     ]
    }
   ],
   "source": [
    "df.info()\n"
   ]
  },
  {
   "cell_type": "code",
   "execution_count": 4,
   "id": "d1c4b1eb",
   "metadata": {},
   "outputs": [
    {
     "data": {
      "text/plain": [
       "(4340, 8)"
      ]
     },
     "execution_count": 4,
     "metadata": {},
     "output_type": "execute_result"
    }
   ],
   "source": [
    "df.shape\n"
   ]
  },
  {
   "cell_type": "code",
   "execution_count": 5,
   "id": "d437f814",
   "metadata": {},
   "outputs": [
    {
     "data": {
      "text/html": [
       "<div>\n",
       "<style scoped>\n",
       "    .dataframe tbody tr th:only-of-type {\n",
       "        vertical-align: middle;\n",
       "    }\n",
       "\n",
       "    .dataframe tbody tr th {\n",
       "        vertical-align: top;\n",
       "    }\n",
       "\n",
       "    .dataframe thead th {\n",
       "        text-align: right;\n",
       "    }\n",
       "</style>\n",
       "<table border=\"1\" class=\"dataframe\">\n",
       "  <thead>\n",
       "    <tr style=\"text-align: right;\">\n",
       "      <th></th>\n",
       "      <th>year</th>\n",
       "      <th>selling_price</th>\n",
       "      <th>km_driven</th>\n",
       "    </tr>\n",
       "  </thead>\n",
       "  <tbody>\n",
       "    <tr>\n",
       "      <th>count</th>\n",
       "      <td>4340.000000</td>\n",
       "      <td>4.340000e+03</td>\n",
       "      <td>4340.000000</td>\n",
       "    </tr>\n",
       "    <tr>\n",
       "      <th>mean</th>\n",
       "      <td>2013.090783</td>\n",
       "      <td>5.041273e+05</td>\n",
       "      <td>66215.777419</td>\n",
       "    </tr>\n",
       "    <tr>\n",
       "      <th>std</th>\n",
       "      <td>4.215344</td>\n",
       "      <td>5.785487e+05</td>\n",
       "      <td>46644.102194</td>\n",
       "    </tr>\n",
       "    <tr>\n",
       "      <th>min</th>\n",
       "      <td>1992.000000</td>\n",
       "      <td>2.000000e+04</td>\n",
       "      <td>1.000000</td>\n",
       "    </tr>\n",
       "    <tr>\n",
       "      <th>25%</th>\n",
       "      <td>2011.000000</td>\n",
       "      <td>2.087498e+05</td>\n",
       "      <td>35000.000000</td>\n",
       "    </tr>\n",
       "    <tr>\n",
       "      <th>50%</th>\n",
       "      <td>2014.000000</td>\n",
       "      <td>3.500000e+05</td>\n",
       "      <td>60000.000000</td>\n",
       "    </tr>\n",
       "    <tr>\n",
       "      <th>75%</th>\n",
       "      <td>2016.000000</td>\n",
       "      <td>6.000000e+05</td>\n",
       "      <td>90000.000000</td>\n",
       "    </tr>\n",
       "    <tr>\n",
       "      <th>max</th>\n",
       "      <td>2020.000000</td>\n",
       "      <td>8.900000e+06</td>\n",
       "      <td>806599.000000</td>\n",
       "    </tr>\n",
       "  </tbody>\n",
       "</table>\n",
       "</div>"
      ],
      "text/plain": [
       "              year  selling_price      km_driven\n",
       "count  4340.000000   4.340000e+03    4340.000000\n",
       "mean   2013.090783   5.041273e+05   66215.777419\n",
       "std       4.215344   5.785487e+05   46644.102194\n",
       "min    1992.000000   2.000000e+04       1.000000\n",
       "25%    2011.000000   2.087498e+05   35000.000000\n",
       "50%    2014.000000   3.500000e+05   60000.000000\n",
       "75%    2016.000000   6.000000e+05   90000.000000\n",
       "max    2020.000000   8.900000e+06  806599.000000"
      ]
     },
     "execution_count": 5,
     "metadata": {},
     "output_type": "execute_result"
    }
   ],
   "source": [
    "df.describe()\n"
   ]
  },
  {
   "cell_type": "code",
   "execution_count": 6,
   "id": "e3ac961a",
   "metadata": {},
   "outputs": [
    {
     "data": {
      "text/plain": [
       "name             0\n",
       "year             0\n",
       "selling_price    0\n",
       "km_driven        0\n",
       "fuel             0\n",
       "seller_type      0\n",
       "transmission     0\n",
       "owner            0\n",
       "dtype: int64"
      ]
     },
     "execution_count": 6,
     "metadata": {},
     "output_type": "execute_result"
    }
   ],
   "source": [
    "df.isnull().sum()\n"
   ]
  },
  {
   "cell_type": "code",
   "execution_count": 8,
   "id": "115031d3",
   "metadata": {},
   "outputs": [
    {
     "data": {
      "text/plain": [
       "0        Maruti\n",
       "1        Maruti\n",
       "2       Hyundai\n",
       "3        Datsun\n",
       "4         Honda\n",
       "         ...   \n",
       "4335    Hyundai\n",
       "4336    Hyundai\n",
       "4337     Maruti\n",
       "4338    Hyundai\n",
       "4339    Renault\n",
       "Name: name_2, Length: 4340, dtype: object"
      ]
     },
     "execution_count": 8,
     "metadata": {},
     "output_type": "execute_result"
    }
   ],
   "source": [
    "df[\"name_2\"] = df.name.apply(lambda x : ' '.join(x.split(' ')[:1]))\n",
    "df['name_2']"
   ]
  },
  {
   "cell_type": "markdown",
   "id": "39a8c217",
   "metadata": {},
   "source": [
    "# Univariate Analysis"
   ]
  },
  {
   "cell_type": "code",
   "execution_count": 113,
   "id": "ba6be413",
   "metadata": {
    "scrolled": true
   },
   "outputs": [
    {
     "data": {
      "text/plain": [
       "Maruti           1280\n",
       "Hyundai           821\n",
       "Mahindra          365\n",
       "Tata              361\n",
       "Honda             252\n",
       "Ford              238\n",
       "Toyota            206\n",
       "Chevrolet         188\n",
       "Renault           146\n",
       "Volkswagen        107\n",
       "Skoda              68\n",
       "Nissan             64\n",
       "Audi               60\n",
       "BMW                39\n",
       "Fiat               37\n",
       "Datsun             37\n",
       "Mercedes-Benz      35\n",
       "Jaguar              6\n",
       "Mitsubishi          6\n",
       "Land                5\n",
       "Volvo               4\n",
       "Ambassador          4\n",
       "Jeep                3\n",
       "MG                  2\n",
       "OpelCorsa           2\n",
       "Daewoo              1\n",
       "Force               1\n",
       "Isuzu               1\n",
       "Kia                 1\n",
       "Name: name_2, dtype: int64"
      ]
     },
     "execution_count": 113,
     "metadata": {},
     "output_type": "execute_result"
    }
   ],
   "source": [
    "df.name_2.value_counts()\n"
   ]
  },
  {
   "cell_type": "code",
   "execution_count": 55,
   "id": "4e0d6e3e",
   "metadata": {},
   "outputs": [
    {
     "data": {
      "image/png": "[encoded data removed]",
      "text/plain": [
       "<Figure size 432x288 with 1 Axes>"
      ]
     },
     "metadata": {
      "needs_background": "light"
     },
     "output_type": "display_data"
    }
   ],
   "source": [
    "sns.countplot(data=df,x=\"name_2\",palette=\"CMRmap\")\n",
    "plt.xticks(rotation=90)\n",
    "plt.xlabel(\"Name\",fontsize=10,color=\"black\")\n",
    "plt.ylabel(\"Name\",fontsize=10,color=\"black\")\n",
    "plt.title(\"Car COUNT\",color=\"black\")\n",
    "plt.show()"
   ]
  },
  {
   "cell_type": "code",
   "execution_count": 112,
   "id": "1f66dd47",
   "metadata": {},
   "outputs": [
    {
     "data": {
      "image/png": "[encoded data removed]",
      "text/plain": [
       "<Figure size 576x576 with 1 Axes>"
      ]
     },
     "metadata": {},
     "output_type": "display_data"
    }
   ],
   "source": [
    "labels = df[\"name_2\"].value_counts().index\n",
    "sizes = df[\"name_2\"].value_counts()\n",
    "colors = [\"#B9DDF1\", \"#9FCAE6\", \"#73A4CA\", \"#497AA7\", \"#2E5B88\"]\n",
    "\n",
    "plt.figure(figsize=(8, 8))\n",
    "plt.pie(sizes, labels=labels, rotatelabels=False, autopct='%1.1f%%', colors=colors)\n",
    "plt.title('Name', color='black', fontsize=15)\n",
    "plt.show()\n"
   ]
  },
  {
   "cell_type": "code",
   "execution_count": 12,
   "id": "0e227173",
   "metadata": {},
   "outputs": [
    {
     "data": {
      "text/plain": [
       "2017    466\n",
       "2015    421\n",
       "2012    415\n",
       "2013    386\n",
       "2014    367\n",
       "2018    366\n",
       "2016    357\n",
       "2011    271\n",
       "2010    234\n",
       "2019    195\n",
       "2009    193\n",
       "2008    145\n",
       "2007    134\n",
       "2006    110\n",
       "2005     85\n",
       "2020     48\n",
       "2004     42\n",
       "2003     23\n",
       "2002     21\n",
       "2001     20\n",
       "1998     12\n",
       "2000     12\n",
       "1999     10\n",
       "1997      3\n",
       "1996      2\n",
       "1995      1\n",
       "1992      1\n",
       "Name: year, dtype: int64"
      ]
     },
     "execution_count": 12,
     "metadata": {},
     "output_type": "execute_result"
    }
   ],
   "source": [
    "df.year.value_counts()\n"
   ]
  },
  {
   "cell_type": "code",
   "execution_count": 115,
   "id": "02542505",
   "metadata": {
    "scrolled": true
   },
   "outputs": [
    {
     "data": {
      "image/png": "[encoded data removed]",
      "text/plain": [
       "<Figure size 432x288 with 1 Axes>"
      ]
     },
     "metadata": {
      "needs_background": "light"
     },
     "output_type": "display_data"
    }
   ],
   "source": [
    "sns.countplot(data=df,x=\"year\",palette=\"icefire\")\n",
    "plt.xticks(rotation=90)\n",
    "plt.xlabel(\"YEAR\",fontsize=10,color=\"black\")\n",
    "plt.ylabel(\"COUNT\",fontsize=10,color=\"black\")\n",
    "plt.title(\"YEAR COUNT\",color=\"black\")\n",
    "plt.show()"
   ]
  },
  {
   "cell_type": "code",
   "execution_count": 97,
   "id": "a78227ef",
   "metadata": {},
   "outputs": [
    {
     "data": {
      "image/png": "[encoded data removed]",
      "text/plain": [
       "<Figure size 576x576 with 1 Axes>"
      ]
     },
     "metadata": {},
     "output_type": "display_data"
    }
   ],
   "source": [
    "labels = df[\"year\"][:40].value_counts().index\n",
    "sizes = df[\"year\"][:40].value_counts()\n",
    "colors = [\"#B9DDF1\", \"#9FCAE6\", \"#73A4CA\", \"#497AA7\", \"#2E5B88\"]\n",
    "\n",
    "plt.figure(figsize=(8, 8))\n",
    "plt.pie(sizes, labels=labels, rotatelabels=False, autopct='%1.1f%%', colors=colors, startangle=45)\n",
    "plt.title('Year', color='black', fontsize=15)\n",
    "plt.show()\n"
   ]
  },
  {
   "cell_type": "code",
   "execution_count": 15,
   "id": "fc3df5a7",
   "metadata": {
    "scrolled": true
   },
   "outputs": [
    {
     "data": {
      "text/plain": [
       "Diesel      2153\n",
       "Petrol      2123\n",
       "CNG           40\n",
       "LPG           23\n",
       "Electric       1\n",
       "Name: fuel, dtype: int64"
      ]
     },
     "execution_count": 15,
     "metadata": {},
     "output_type": "execute_result"
    }
   ],
   "source": [
    "df.fuel.value_counts()\n"
   ]
  },
  {
   "cell_type": "code",
   "execution_count": 89,
   "id": "cb22c351",
   "metadata": {},
   "outputs": [
    {
     "data": {
      "image/png": "[encoded data removed]",
      "text/plain": [
       "<Figure size 576x576 with 1 Axes>"
      ]
     },
     "metadata": {},
     "output_type": "display_data"
    }
   ],
   "source": [
    "labels = df[\"fuel\"].value_counts().index\n",
    "sizes = df[\"fuel\"].value_counts()\n",
    "colors = [\"#497AA7\",\"#9FCAE6\", \"#73A4CA\", \"#B9DDF1\", \"#2E5B88\"]\n",
    "\n",
    "plt.figure(figsize=(8, 8))\n",
    "plt.pie(sizes, labels=labels, rotatelabels=False, autopct='%1.f%%', colors=colors, shadow=False, startangle=9)\n",
    "plt.title('Fuel', color='black', fontsize=15)\n",
    "plt.show()\n"
   ]
  },
  {
   "cell_type": "code",
   "execution_count": 17,
   "id": "34bfe641",
   "metadata": {},
   "outputs": [
    {
     "data": {
      "text/plain": [
       "Individual          3244\n",
       "Dealer               994\n",
       "Trustmark Dealer     102\n",
       "Name: seller_type, dtype: int64"
      ]
     },
     "execution_count": 17,
     "metadata": {},
     "output_type": "execute_result"
    }
   ],
   "source": [
    "df.seller_type.value_counts()\n"
   ]
  },
  {
   "cell_type": "code",
   "execution_count": 50,
   "id": "99ae44c8",
   "metadata": {},
   "outputs": [
    {
     "data": {
      "image/png": "[encoded data removed]",
      "text/plain": [
       "<Figure size 432x288 with 1 Axes>"
      ]
     },
     "metadata": {
      "needs_background": "light"
     },
     "output_type": "display_data"
    }
   ],
   "source": [
    "sns.countplot(data=df,x=\"seller_type\",palette=\"pink\")\n",
    "plt.xlabel(\"SELLER TYPE\",fontsize=10,color=\"brown\")\n",
    "plt.ylabel(\"COUNT\",fontsize=10,color=\"brown\")\n",
    "plt.title(\"SELLER TYPE COUNT\",color=\"black\")\n",
    "plt.show()"
   ]
  },
  {
   "cell_type": "code",
   "execution_count": 19,
   "id": "8f12fdca",
   "metadata": {},
   "outputs": [
    {
     "data": {
      "text/plain": [
       "Manual       3892\n",
       "Automatic     448\n",
       "Name: transmission, dtype: int64"
      ]
     },
     "execution_count": 19,
     "metadata": {},
     "output_type": "execute_result"
    }
   ],
   "source": [
    "df.transmission.value_counts()\n"
   ]
  },
  {
   "cell_type": "code",
   "execution_count": 84,
   "id": "2d2f1110",
   "metadata": {},
   "outputs": [
    {
     "data": {
      "image/png": "[encoded data removed]",
      "text/plain": [
       "<Figure size 1008x504 with 1 Axes>"
      ]
     },
     "metadata": {},
     "output_type": "display_data"
    }
   ],
   "source": [
    "plt.figure(figsize=(14, 7))\n",
    "labels = ['Automatic', 'Manual']\n",
    "colors = [\"#497AA7\", \"#9FCAE6\"]\n",
    "\n",
    "plt.pie(df['transmission'].value_counts().sort_values(), labels=labels, explode=[0.1, 0.1],\n",
    "        autopct='%1.2f%%', colors=colors, startangle=90)\n",
    "plt.title('TRANSMISSION')\n",
    "plt.axis('equal')\n",
    "plt.show()\n"
   ]
  },
  {
   "cell_type": "code",
   "execution_count": 21,
   "id": "9bb2f727",
   "metadata": {},
   "outputs": [
    {
     "data": {
      "text/plain": [
       "First Owner             2832\n",
       "Second Owner            1106\n",
       "Third Owner              304\n",
       "Fourth & Above Owner      81\n",
       "Test Drive Car            17\n",
       "Name: owner, dtype: int64"
      ]
     },
     "execution_count": 21,
     "metadata": {},
     "output_type": "execute_result"
    }
   ],
   "source": [
    "df.owner.value_counts()\n"
   ]
  },
  {
   "cell_type": "code",
   "execution_count": 98,
   "id": "97ee86c6",
   "metadata": {},
   "outputs": [
    {
     "data": {
      "image/png": "[encoded data removed]",
      "text/plain": [
       "<Figure size 432x288 with 1 Axes>"
      ]
     },
     "metadata": {
      "needs_background": "light"
     },
     "output_type": "display_data"
    }
   ],
   "source": [
    "sns.countplot(data=df,x=\"owner\",palette=\"viridis\")\n",
    "plt.xticks(rotation=90)\n",
    "plt.xlabel(\"OWNER\",fontsize=10,color=\"purple\")\n",
    "plt.ylabel(\"COUNT\",fontsize=10,color=\"purple\")\n",
    "plt.title(\"OWNER COUNT\",color=\"Black\")\n",
    "plt.show()"
   ]
  },
  {
   "cell_type": "markdown",
   "id": "71939320",
   "metadata": {},
   "source": [
    "# Bivariate Analysis"
   ]
  },
  {
   "cell_type": "code",
   "execution_count": 23,
   "id": "a5637d16",
   "metadata": {},
   "outputs": [
    {
     "data": {
      "image/png": "[encoded data removed]",
      "text/plain": [
       "<Figure size 432x288 with 1 Axes>"
      ]
     },
     "metadata": {
      "needs_background": "light"
     },
     "output_type": "display_data"
    }
   ],
   "source": [
    "sns.histplot(data=df, x=\"year\", hue=\"transmission\")\n",
    "plt.xticks(rotation=45)\n",
    "plt.show()"
   ]
  },
  {
   "cell_type": "code",
   "execution_count": 104,
   "id": "4b861b6c",
   "metadata": {},
   "outputs": [
    {
     "data": {
      "application/vnd.plotly.v1+json": {
       "config": {
        "plotlyServerURL": "https://plot.ly"
       },
       "data": [
        {
         "branchvalues": "total",
         "customdata": [
          [
           "Skoda"
          ],
          [
           "Mahindra"
          ],
          [
           "Ambassador"
          ],
          [
           "Ford"
          ],
          [
           "Ambassador"
          ],
          [
           "Ford"
          ],
          [
           "Audi"
          ],
          [
           "Skoda"
          ],
          [
           "Renault"
          ],
          [
           "Mahindra"
          ],
          [
           "Land"
          ],
          [
           "Skoda"
          ],
          [
           "Honda"
          ],
          [
           "Tata"
          ],
          [
           "Tata"
          ],
          [
           "Mahindra"
          ],
          [
           "Maruti"
          ],
          [
           "Audi"
          ],
          [
           "Tata"
          ],
          [
           "Maruti"
          ],
          [
           "Honda"
          ],
          [
           "Tata"
          ],
          [
           "Maruti"
          ],
          [
           "Honda"
          ],
          [
           "BMW"
          ],
          [
           "Tata"
          ],
          [
           "Maruti"
          ],
          [
           "BMW"
          ],
          [
           "Land"
          ],
          [
           "Renault"
          ],
          [
           "Honda"
          ],
          [
           "Maruti"
          ],
          [
           "Chevrolet"
          ],
          [
           "Hyundai"
          ],
          [
           "Toyota"
          ],
          [
           "Maruti"
          ],
          [
           "Chevrolet"
          ],
          [
           "Hyundai"
          ],
          [
           "Chevrolet"
          ],
          [
           "Mercedes-Benz"
          ],
          [
           "Hyundai"
          ],
          [
           "Mercedes-Benz"
          ],
          [
           "Chevrolet"
          ],
          [
           "Toyota"
          ],
          [
           "Skoda"
          ],
          [
           "Mercedes-Benz"
          ],
          [
           "Chevrolet"
          ],
          [
           "Hyundai"
          ],
          [
           "MG"
          ],
          [
           "Toyota"
          ],
          [
           "Mitsubishi"
          ],
          [
           "Daewoo"
          ],
          [
           "Hyundai"
          ],
          [
           "Mitsubishi"
          ],
          [
           "Hyundai"
          ],
          [
           "Isuzu"
          ],
          [
           "Nissan"
          ],
          [
           "Toyota"
          ],
          [
           "Toyota"
          ],
          [
           "Datsun"
          ],
          [
           "Jaguar"
          ],
          [
           "Nissan"
          ],
          [
           "Volkswagen"
          ],
          [
           "Jaguar"
          ],
          [
           "Datsun"
          ],
          [
           "Volkswagen"
          ],
          [
           "Nissan"
          ],
          [
           "Volkswagen"
          ],
          [
           "MG"
          ],
          [
           "OpelCorsa"
          ],
          [
           "Jeep"
          ],
          [
           "Fiat"
          ],
          [
           "Renault"
          ],
          [
           "Volkswagen"
          ],
          [
           "Jeep"
          ],
          [
           "Ford"
          ],
          [
           "Fiat"
          ],
          [
           "Kia"
          ],
          [
           "Force"
          ],
          [
           "Renault"
          ],
          [
           "Volvo"
          ],
          [
           "Ford"
          ],
          [
           "(?)"
          ],
          [
           "(?)"
          ],
          [
           "(?)"
          ],
          [
           "Toyota"
          ],
          [
           "(?)"
          ],
          [
           "(?)"
          ],
          [
           "(?)"
          ],
          [
           "(?)"
          ],
          [
           "(?)"
          ],
          [
           "(?)"
          ]
         ],
         "domain": {
          "x": [
           0,
           1
          ],
          "y": [
           0,
           1
          ]
         },
         "hovertemplate": "labels=%{label}<br>price=%{value}<br>parent=%{parent}<br>id=%{id}<br>name_2=%{customdata[0]}<extra></extra>",
         "ids": [
          "all/Manual/Diesel/Skoda",
          "all/Automatic/Diesel/Mahindra",
          "all/Manual/Diesel/Ambassador",
          "all/Automatic/Petrol/Ford",
          "all/Manual/Petrol/Ambassador",
          "all/Manual/Petrol/Ford",
          "all/Automatic/Diesel/Audi",
          "all/Automatic/Petrol/Skoda",
          "all/Automatic/Petrol/Renault",
          "all/Manual/Diesel/Mahindra",
          "all/Automatic/Diesel/Land",
          "all/Manual/Petrol/Skoda",
          "all/Automatic/Diesel/Honda",
          "all/Manual/CNG/Tata",
          "all/Automatic/Diesel/Tata",
          "all/Manual/Petrol/Mahindra",
          "all/Manual/CNG/Maruti",
          "all/Automatic/Petrol/Audi",
          "all/Manual/Diesel/Tata",
          "all/Automatic/Diesel/Maruti",
          "all/Manual/Diesel/Honda",
          "all/Automatic/Petrol/Tata",
          "all/Manual/Diesel/Maruti",
          "all/Automatic/Petrol/Honda",
          "all/Automatic/Diesel/BMW",
          "all/Manual/Petrol/Tata",
          "all/Manual/LPG/Maruti",
          "all/Automatic/Petrol/BMW",
          "all/Automatic/Petrol/Land",
          "all/Manual/Petrol/Renault",
          "all/Manual/Petrol/Honda",
          "all/Automatic/Petrol/Maruti",
          "all/Manual/CNG/Chevrolet",
          "all/Manual/CNG/Hyundai",
          "all/Automatic/Diesel/Toyota",
          "all/Manual/Petrol/Maruti",
          "all/Automatic/Diesel/Chevrolet",
          "all/Automatic/Diesel/Hyundai",
          "all/Manual/Diesel/Chevrolet",
          "all/Automatic/Diesel/Mercedes-Benz",
          "all/Manual/Diesel/Hyundai",
          "all/Manual/Diesel/Mercedes-Benz",
          "all/Manual/LPG/Chevrolet",
          "all/Manual/Diesel/Toyota",
          "all/Automatic/Diesel/Skoda",
          "all/Automatic/Petrol/Mercedes-Benz",
          "all/Manual/Petrol/Chevrolet",
          "all/Manual/LPG/Hyundai",
          "all/Manual/Diesel/MG",
          "all/Automatic/Electric/Toyota",
          "all/Manual/Diesel/Mitsubishi",
          "all/Manual/Petrol/Daewoo",
          "all/Automatic/Petrol/Hyundai",
          "all/Automatic/Petrol/Mitsubishi",
          "all/Manual/Petrol/Hyundai",
          "all/Manual/Diesel/Isuzu",
          "all/Manual/Diesel/Nissan",
          "all/Automatic/Petrol/Toyota",
          "all/Manual/Petrol/Toyota",
          "all/Automatic/Petrol/Datsun",
          "all/Automatic/Diesel/Jaguar",
          "all/Automatic/Petrol/Nissan",
          "all/Automatic/Diesel/Volkswagen",
          "all/Automatic/Petrol/Jaguar",
          "all/Manual/Petrol/Datsun",
          "all/Manual/Diesel/Volkswagen",
          "all/Manual/Petrol/Nissan",
          "all/Automatic/Petrol/Volkswagen",
          "all/Automatic/Petrol/MG",
          "all/Manual/Petrol/OpelCorsa",
          "all/Manual/Diesel/Jeep",
          "all/Manual/Diesel/Fiat",
          "all/Automatic/Diesel/Renault",
          "all/Manual/Petrol/Volkswagen",
          "all/Manual/Petrol/Jeep",
          "all/Manual/Diesel/Ford",
          "all/Manual/Petrol/Fiat",
          "all/Automatic/Diesel/Kia",
          "all/Manual/Diesel/Force",
          "all/Manual/Diesel/Renault",
          "all/Automatic/Diesel/Volvo",
          "all/Automatic/Diesel/Ford",
          "all/Manual/CNG",
          "all/Automatic/Diesel",
          "all/Manual/Diesel",
          "all/Automatic/Electric",
          "all/Manual/LPG",
          "all/Automatic/Petrol",
          "all/Manual/Petrol",
          "all/Automatic",
          "all/Manual",
          "all"
         ],
         "labels": [
          "Skoda",
          "Mahindra",
          "Ambassador",
          "Ford",
          "Ambassador",
          "Ford",
          "Audi",
          "Skoda",
          "Renault",
          "Mahindra",
          "Land",
          "Skoda",
          "Honda",
          "Tata",
          "Tata",
          "Mahindra",
          "Maruti",
          "Audi",
          "Tata",
          "Maruti",
          "Honda",
          "Tata",
          "Maruti",
          "Honda",
          "BMW",
          "Tata",
          "Maruti",
          "BMW",
          "Land",
          "Renault",
          "Honda",
          "Maruti",
          "Chevrolet",
          "Hyundai",
          "Toyota",
          "Maruti",
          "Chevrolet",
          "Hyundai",
          "Chevrolet",
          "Mercedes-Benz",
          "Hyundai",
          "Mercedes-Benz",
          "Chevrolet",
          "Toyota",
          "Skoda",
          "Mercedes-Benz",
          "Chevrolet",
          "Hyundai",
          "MG",
          "Toyota",
          "Mitsubishi",
          "Daewoo",
          "Hyundai",
          "Mitsubishi",
          "Hyundai",
          "Isuzu",
          "Nissan",
          "Toyota",
          "Toyota",
          "Datsun",
          "Jaguar",
          "Nissan",
          "Volkswagen",
          "Jaguar",
          "Datsun",
          "Volkswagen",
          "Nissan",
          "Volkswagen",
          "MG",
          "OpelCorsa",
          "Jeep",
          "Fiat",
          "Renault",
          "Volkswagen",
          "Jeep",
          "Ford",
          "Fiat",
          "Kia",
          "Force",
          "Renault",
          "Volvo",
          "Ford",
          "CNG",
          "Diesel",
          "Diesel",
          "Electric",
          "LPG",
          "Petrol",
          "Petrol",
          "Automatic",
          "Manual",
          "all"
         ],
         "marker": {
          "colors": [
           "#EF553B",
           "#00cc96",
           "#ab63fa",
           "#FFA15A",
           "#ab63fa",
           "#FFA15A",
           "#19d3f3",
           "#EF553B",
           "#FF6692",
           "#00cc96",
           "#B6E880",
           "#EF553B",
           "#FF97FF",
           "#FECB52",
           "#FECB52",
           "#00cc96",
           "#636efa",
           "#19d3f3",
           "#FECB52",
           "#636efa",
           "#FF97FF",
           "#FECB52",
           "#636efa",
           "#FF97FF",
           "#EF553B",
           "#FECB52",
           "#636efa",
           "#EF553B",
           "#B6E880",
           "#FF6692",
           "#FF97FF",
           "#636efa",
           "#00cc96",
           "#ab63fa",
           "#FFA15A",
           "#636efa",
           "#00cc96",
           "#ab63fa",
           "#00cc96",
           "#19d3f3",
           "#ab63fa",
           "#19d3f3",
           "#00cc96",
           "#FFA15A",
           "#EF553B",
           "#19d3f3",
           "#00cc96",
           "#ab63fa",
           "#FF6692",
           "#FFA15A",
           "#B6E880",
           "#FF97FF",
           "#ab63fa",
           "#B6E880",
           "#ab63fa",
           "#FECB52",
           "#636efa",
           "#FFA15A",
           "#FFA15A",
           "#EF553B",
           "#00cc96",
           "#636efa",
           "#ab63fa",
           "#00cc96",
           "#EF553B",
           "#ab63fa",
           "#636efa",
           "#ab63fa",
           "#FF6692",
           "#FFA15A",
           "#19d3f3",
           "#FF6692",
           "#FF6692",
           "#ab63fa",
           "#19d3f3",
           "#FFA15A",
           "#FF6692",
           "#B6E880",
           "#FF97FF",
           "#FF6692",
           "#FECB52",
           "#FFA15A",
           "lightgrey",
           "lightgrey",
           "lightgrey",
           "#FFA15A",
           "lightgrey",
           "lightgrey",
           "lightgrey",
           "lightgrey",
           "lightgrey",
           "lightgrey"
          ]
         },
         "name": "",
         "parents": [
          "all/Manual/Diesel",
          "all/Automatic/Diesel",
          "all/Manual/Diesel",
          "all/Automatic/Petrol",
          "all/Manual/Petrol",
          "all/Manual/Petrol",
          "all/Automatic/Diesel",
          "all/Automatic/Petrol",
          "all/Automatic/Petrol",
          "all/Manual/Diesel",
          "all/Automatic/Diesel",
          "all/Manual/Petrol",
          "all/Automatic/Diesel",
          "all/Manual/CNG",
          "all/Automatic/Diesel",
          "all/Manual/Petrol",
          "all/Manual/CNG",
          "all/Automatic/Petrol",
          "all/Manual/Diesel",
          "all/Automatic/Diesel",
          "all/Manual/Diesel",
          "all/Automatic/Petrol",
          "all/Manual/Diesel",
          "all/Automatic/Petrol",
          "all/Automatic/Diesel",
          "all/Manual/Petrol",
          "all/Manual/LPG",
          "all/Automatic/Petrol",
          "all/Automatic/Petrol",
          "all/Manual/Petrol",
          "all/Manual/Petrol",
          "all/Automatic/Petrol",
          "all/Manual/CNG",
          "all/Manual/CNG",
          "all/Automatic/Diesel",
          "all/Manual/Petrol",
          "all/Automatic/Diesel",
          "all/Automatic/Diesel",
          "all/Manual/Diesel",
          "all/Automatic/Diesel",
          "all/Manual/Diesel",
          "all/Manual/Diesel",
          "all/Manual/LPG",
          "all/Manual/Diesel",
          "all/Automatic/Diesel",
          "all/Automatic/Petrol",
          "all/Manual/Petrol",
          "all/Manual/LPG",
          "all/Manual/Diesel",
          "all/Automatic/Electric",
          "all/Manual/Diesel",
          "all/Manual/Petrol",
          "all/Automatic/Petrol",
          "all/Automatic/Petrol",
          "all/Manual/Petrol",
          "all/Manual/Diesel",
          "all/Manual/Diesel",
          "all/Automatic/Petrol",
          "all/Manual/Petrol",
          "all/Automatic/Petrol",
          "all/Automatic/Diesel",
          "all/Automatic/Petrol",
          "all/Automatic/Diesel",
          "all/Automatic/Petrol",
          "all/Manual/Petrol",
          "all/Manual/Diesel",
          "all/Manual/Petrol",
          "all/Automatic/Petrol",
          "all/Automatic/Petrol",
          "all/Manual/Petrol",
          "all/Manual/Diesel",
          "all/Manual/Diesel",
          "all/Automatic/Diesel",
          "all/Manual/Petrol",
          "all/Manual/Petrol",
          "all/Manual/Diesel",
          "all/Manual/Petrol",
          "all/Automatic/Diesel",
          "all/Manual/Diesel",
          "all/Manual/Diesel",
          "all/Automatic/Diesel",
          "all/Automatic/Diesel",
          "all/Manual",
          "all/Automatic",
          "all/Manual",
          "all/Automatic",
          "all/Manual",
          "all/Automatic",
          "all/Manual",
          "all",
          "all",
          ""
         ],
         "type": "treemap",
         "values": [
          385000,
          859999.5,
          120000,
          730500,
          430000,
          410000,
          1580000,
          750000,
          350000,
          550000,
          3750000,
          300000,
          1800000,
          185000,
          1200000,
          420000,
          300000,
          1850000,
          198500,
          800000,
          600000,
          475500,
          509999,
          428000,
          2675000,
          150000,
          110000,
          480000,
          4000000,
          300000,
          404999.5,
          450000,
          229999,
          142500,
          2600000,
          204999,
          650000,
          1075000,
          225000,
          3800000,
          509999,
          524500,
          200000,
          657500,
          599000,
          1050000,
          170000,
          245000,
          1825000,
          310000,
          825000,
          60000,
          520000,
          525000,
          260000,
          1500000,
          495000,
          1650000,
          400000,
          295000,
          1964999,
          434999,
          717000,
          2050000,
          280000,
          350000,
          350000,
          825000,
          1860000,
          88500,
          1595000,
          250999,
          750000,
          400000,
          1400000,
          500000,
          215000,
          1300000,
          346000,
          450000,
          1987500,
          2650000,
          857499,
          30758498.5,
          12417497,
          310000,
          555000,
          18723999,
          6243498.5,
          49792497.5,
          20073494.5,
          69865992
         ]
        }
       ],
       "layout": {
        "legend": {
         "tracegroupgap": 0
        },
        "margin": {
         "b": 25,
         "l": 25,
         "r": 25,
         "t": 50
        },
        "template": {
         "data": {
          "bar": [
           {
            "error_x": {
             "color": "#2a3f5f"
            },
            "error_y": {
             "color": "#2a3f5f"
            },
            "marker": {
             "line": {
              "color": "white",
              "width": 0.5
             },
             "pattern": {
              "fillmode": "overlay",
              "size": 10,
              "solidity": 0.2
             }
            },
            "type": "bar"
           }
          ],
          "barpolar": [
           {
            "marker": {
             "line": {
              "color": "white",
              "width": 0.5
             },
             "pattern": {
              "fillmode": "overlay",
              "size": 10,
              "solidity": 0.2
             }
            },
            "type": "barpolar"
           }
          ],
          "carpet": [
           {
            "aaxis": {
             "endlinecolor": "#2a3f5f",
             "gridcolor": "#C8D4E3",
             "linecolor": "#C8D4E3",
             "minorgridcolor": "#C8D4E3",
             "startlinecolor": "#2a3f5f"
            },
            "baxis": {
             "endlinecolor": "#2a3f5f",
             "gridcolor": "#C8D4E3",
             "linecolor": "#C8D4E3",
             "minorgridcolor": "#C8D4E3",
             "startlinecolor": "#2a3f5f"
            },
            "type": "carpet"
           }
          ],
          "choropleth": [
           {
            "colorbar": {
             "outlinewidth": 0,
             "ticks": ""
            },
            "type": "choropleth"
           }
          ],
          "contour": [
           {
            "colorbar": {
             "outlinewidth": 0,
             "ticks": ""
            },
            "colorscale": [
             [
              0,
              "#0d0887"
             ],
             [
              0.1111111111111111,
              "#46039f"
             ],
             [
              0.2222222222222222,
              "#7201a8"
             ],
             [
              0.3333333333333333,
              "#9c179e"
             ],
             [
              0.4444444444444444,
              "#bd3786"
             ],
             [
              0.5555555555555556,
              "#d8576b"
             ],
             [
              0.6666666666666666,
              "#ed7953"
             ],
             [
              0.7777777777777778,
              "#fb9f3a"
             ],
             [
              0.8888888888888888,
              "#fdca26"
             ],
             [
              1,
              "#f0f921"
             ]
            ],
            "type": "contour"
           }
          ],
          "contourcarpet": [
           {
            "colorbar": {
             "outlinewidth": 0,
             "ticks": ""
            },
            "type": "contourcarpet"
           }
          ],
          "heatmap": [
           {
            "colorbar": {
             "outlinewidth": 0,
             "ticks": ""
            },
            "colorscale": [
             [
              0,
              "#0d0887"
             ],
             [
              0.1111111111111111,
              "#46039f"
             ],
             [
              0.2222222222222222,
              "#7201a8"
             ],
             [
              0.3333333333333333,
              "#9c179e"
             ],
             [
              0.4444444444444444,
              "#bd3786"
             ],
             [
              0.5555555555555556,
              "#d8576b"
             ],
             [
              0.6666666666666666,
              "#ed7953"
             ],
             [
              0.7777777777777778,
              "#fb9f3a"
             ],
             [
              0.8888888888888888,
              "#fdca26"
             ],
             [
              1,
              "#f0f921"
             ]
            ],
            "type": "heatmap"
           }
          ],
          "heatmapgl": [
           {
            "colorbar": {
             "outlinewidth": 0,
             "ticks": ""
            },
            "colorscale": [
             [
              0,
              "#0d0887"
             ],
             [
              0.1111111111111111,
              "#46039f"
             ],
             [
              0.2222222222222222,
              "#7201a8"
             ],
             [
              0.3333333333333333,
              "#9c179e"
             ],
             [
              0.4444444444444444,
              "#bd3786"
             ],
             [
              0.5555555555555556,
              "#d8576b"
             ],
             [
              0.6666666666666666,
              "#ed7953"
             ],
             [
              0.7777777777777778,
              "#fb9f3a"
             ],
             [
              0.8888888888888888,
              "#fdca26"
             ],
             [
              1,
              "#f0f921"
             ]
            ],
            "type": "heatmapgl"
           }
          ],
          "histogram": [
           {
            "marker": {
             "pattern": {
              "fillmode": "overlay",
              "size": 10,
              "solidity": 0.2
             }
            },
            "type": "histogram"
           }
          ],
          "histogram2d": [
           {
            "colorbar": {
             "outlinewidth": 0,
             "ticks": ""
            },
            "colorscale": [
             [
              0,
              "#0d0887"
             ],
             [
              0.1111111111111111,
              "#46039f"
             ],
             [
              0.2222222222222222,
              "#7201a8"
             ],
             [
              0.3333333333333333,
              "#9c179e"
             ],
             [
              0.4444444444444444,
              "#bd3786"
             ],
             [
              0.5555555555555556,
              "#d8576b"
             ],
             [
              0.6666666666666666,
              "#ed7953"
             ],
             [
              0.7777777777777778,
              "#fb9f3a"
             ],
             [
              0.8888888888888888,
              "#fdca26"
             ],
             [
              1,
              "#f0f921"
             ]
            ],
            "type": "histogram2d"
           }
          ],
          "histogram2dcontour": [
           {
            "colorbar": {
             "outlinewidth": 0,
             "ticks": ""
            },
            "colorscale": [
             [
              0,
              "#0d0887"
             ],
             [
              0.1111111111111111,
              "#46039f"
             ],
             [
              0.2222222222222222,
              "#7201a8"
             ],
             [
              0.3333333333333333,
              "#9c179e"
             ],
             [
              0.4444444444444444,
              "#bd3786"
             ],
             [
              0.5555555555555556,
              "#d8576b"
             ],
             [
              0.6666666666666666,
              "#ed7953"
             ],
             [
              0.7777777777777778,
              "#fb9f3a"
             ],
             [
              0.8888888888888888,
              "#fdca26"
             ],
             [
              1,
              "#f0f921"
             ]
            ],
            "type": "histogram2dcontour"
           }
          ],
          "mesh3d": [
           {
            "colorbar": {
             "outlinewidth": 0,
             "ticks": ""
            },
            "type": "mesh3d"
           }
          ],
          "parcoords": [
           {
            "line": {
             "colorbar": {
              "outlinewidth": 0,
              "ticks": ""
             }
            },
            "type": "parcoords"
           }
          ],
          "pie": [
           {
            "automargin": true,
            "type": "pie"
           }
          ],
          "scatter": [
           {
            "fillpattern": {
             "fillmode": "overlay",
             "size": 10,
             "solidity": 0.2
            },
            "type": "scatter"
           }
          ],
          "scatter3d": [
           {
            "line": {
             "colorbar": {
              "outlinewidth": 0,
              "ticks": ""
             }
            },
            "marker": {
             "colorbar": {
              "outlinewidth": 0,
              "ticks": ""
             }
            },
            "type": "scatter3d"
           }
          ],
          "scattercarpet": [
           {
            "marker": {
             "colorbar": {
              "outlinewidth": 0,
              "ticks": ""
             }
            },
            "type": "scattercarpet"
           }
          ],
          "scattergeo": [
           {
            "marker": {
             "colorbar": {
              "outlinewidth": 0,
              "ticks": ""
             }
            },
            "type": "scattergeo"
           }
          ],
          "scattergl": [
           {
            "marker": {
             "colorbar": {
              "outlinewidth": 0,
              "ticks": ""
             }
            },
            "type": "scattergl"
           }
          ],
          "scattermapbox": [
           {
            "marker": {
             "colorbar": {
              "outlinewidth": 0,
              "ticks": ""
             }
            },
            "type": "scattermapbox"
           }
          ],
          "scatterpolar": [
           {
            "marker": {
             "colorbar": {
              "outlinewidth": 0,
              "ticks": ""
             }
            },
            "type": "scatterpolar"
           }
          ],
          "scatterpolargl": [
           {
            "marker": {
             "colorbar": {
              "outlinewidth": 0,
              "ticks": ""
             }
            },
            "type": "scatterpolargl"
           }
          ],
          "scatterternary": [
           {
            "marker": {
             "colorbar": {
              "outlinewidth": 0,
              "ticks": ""
             }
            },
            "type": "scatterternary"
           }
          ],
          "surface": [
           {
            "colorbar": {
             "outlinewidth": 0,
             "ticks": ""
            },
            "colorscale": [
             [
              0,
              "#0d0887"
             ],
             [
              0.1111111111111111,
              "#46039f"
             ],
             [
              0.2222222222222222,
              "#7201a8"
             ],
             [
              0.3333333333333333,
              "#9c179e"
             ],
             [
              0.4444444444444444,
              "#bd3786"
             ],
             [
              0.5555555555555556,
              "#d8576b"
             ],
             [
              0.6666666666666666,
              "#ed7953"
             ],
             [
              0.7777777777777778,
              "#fb9f3a"
             ],
             [
              0.8888888888888888,
              "#fdca26"
             ],
             [
              1,
              "#f0f921"
             ]
            ],
            "type": "surface"
           }
          ],
          "table": [
           {
            "cells": {
             "fill": {
              "color": "#EBF0F8"
             },
             "line": {
              "color": "white"
             }
            },
            "header": {
             "fill": {
              "color": "#C8D4E3"
             },
             "line": {
              "color": "white"
             }
            },
            "type": "table"
           }
          ]
         },
         "layout": {
          "annotationdefaults": {
           "arrowcolor": "#2a3f5f",
           "arrowhead": 0,
           "arrowwidth": 1
          },
          "autotypenumbers": "strict",
          "coloraxis": {
           "colorbar": {
            "outlinewidth": 0,
            "ticks": ""
           }
          },
          "colorscale": {
           "diverging": [
            [
             0,
             "#8e0152"
            ],
            [
             0.1,
             "#c51b7d"
            ],
            [
             0.2,
             "#de77ae"
            ],
            [
             0.3,
             "#f1b6da"
            ],
            [
             0.4,
             "#fde0ef"
            ],
            [
             0.5,
             "#f7f7f7"
            ],
            [
             0.6,
             "#e6f5d0"
            ],
            [
             0.7,
             "#b8e186"
            ],
            [
             0.8,
             "#7fbc41"
            ],
            [
             0.9,
             "#4d9221"
            ],
            [
             1,
             "#276419"
            ]
           ],
           "sequential": [
            [
             0,
             "#0d0887"
            ],
            [
             0.1111111111111111,
             "#46039f"
            ],
            [
             0.2222222222222222,
             "#7201a8"
            ],
            [
             0.3333333333333333,
             "#9c179e"
            ],
            [
             0.4444444444444444,
             "#bd3786"
            ],
            [
             0.5555555555555556,
             "#d8576b"
            ],
            [
             0.6666666666666666,
             "#ed7953"
            ],
            [
             0.7777777777777778,
             "#fb9f3a"
            ],
            [
             0.8888888888888888,
             "#fdca26"
            ],
            [
             1,
             "#f0f921"
            ]
           ],
           "sequentialminus": [
            [
             0,
             "#0d0887"
            ],
            [
             0.1111111111111111,
             "#46039f"
            ],
            [
             0.2222222222222222,
             "#7201a8"
            ],
            [
             0.3333333333333333,
             "#9c179e"
            ],
            [
             0.4444444444444444,
             "#bd3786"
            ],
            [
             0.5555555555555556,
             "#d8576b"
            ],
            [
             0.6666666666666666,
             "#ed7953"
            ],
            [
             0.7777777777777778,
             "#fb9f3a"
            ],
            [
             0.8888888888888888,
             "#fdca26"
            ],
            [
             1,
             "#f0f921"
            ]
           ]
          },
          "colorway": [
           "#636efa",
           "#EF553B",
           "#00cc96",
           "#ab63fa",
           "#FFA15A",
           "#19d3f3",
           "#FF6692",
           "#B6E880",
           "#FF97FF",
           "#FECB52"
          ],
          "font": {
           "color": "#2a3f5f"
          },
          "geo": {
           "bgcolor": "white",
           "lakecolor": "white",
           "landcolor": "white",
           "showlakes": true,
           "showland": true,
           "subunitcolor": "#C8D4E3"
          },
          "hoverlabel": {
           "align": "left"
          },
          "hovermode": "closest",
          "mapbox": {
           "style": "light"
          },
          "paper_bgcolor": "white",
          "plot_bgcolor": "white",
          "polar": {
           "angularaxis": {
            "gridcolor": "#EBF0F8",
            "linecolor": "#EBF0F8",
            "ticks": ""
           },
           "bgcolor": "white",
           "radialaxis": {
            "gridcolor": "#EBF0F8",
            "linecolor": "#EBF0F8",
            "ticks": ""
           }
          },
          "scene": {
           "xaxis": {
            "backgroundcolor": "white",
            "gridcolor": "#DFE8F3",
            "gridwidth": 2,
            "linecolor": "#EBF0F8",
            "showbackground": true,
            "ticks": "",
            "zerolinecolor": "#EBF0F8"
           },
           "yaxis": {
            "backgroundcolor": "white",
            "gridcolor": "#DFE8F3",
            "gridwidth": 2,
            "linecolor": "#EBF0F8",
            "showbackground": true,
            "ticks": "",
            "zerolinecolor": "#EBF0F8"
           },
           "zaxis": {
            "backgroundcolor": "white",
            "gridcolor": "#DFE8F3",
            "gridwidth": 2,
            "linecolor": "#EBF0F8",
            "showbackground": true,
            "ticks": "",
            "zerolinecolor": "#EBF0F8"
           }
          },
          "shapedefaults": {
           "line": {
            "color": "#2a3f5f"
           }
          },
          "ternary": {
           "aaxis": {
            "gridcolor": "#DFE8F3",
            "linecolor": "#A2B1C6",
            "ticks": ""
           },
           "baxis": {
            "gridcolor": "#DFE8F3",
            "linecolor": "#A2B1C6",
            "ticks": ""
           },
           "bgcolor": "white",
           "caxis": {
            "gridcolor": "#DFE8F3",
            "linecolor": "#A2B1C6",
            "ticks": ""
           }
          },
          "title": {
           "x": 0.05
          },
          "xaxis": {
           "automargin": true,
           "gridcolor": "#EBF0F8",
           "linecolor": "#EBF0F8",
           "ticks": "",
           "title": {
            "standoff": 15
           },
           "zerolinecolor": "#EBF0F8",
           "zerolinewidth": 2
          },
          "yaxis": {
           "automargin": true,
           "gridcolor": "#EBF0F8",
           "linecolor": "#EBF0F8",
           "ticks": "",
           "title": {
            "standoff": 15
           },
           "zerolinecolor": "#EBF0F8",
           "zerolinewidth": 2
          }
         }
        }
       }
      },
      "text/html": [
       "<div>                            <div id=\"f1961593-33b4-4fbb-af5a-025ee10603e1\" class=\"plotly-graph-div\" style=\"height:525px; width:100%;\"></div>            <script type=\"text/javascript\">                require([\"plotly\"], function(Plotly) {                    window.PLOTLYENV=window.PLOTLYENV || {};                                    if (document.getElementById(\"f1961593-33b4-4fbb-af5a-025ee10603e1\")) {                    Plotly.newPlot(                        \"f1961593-33b4-4fbb-af5a-025ee10603e1\",                        [{\"branchvalues\":\"total\",\"customdata\":[[\"Skoda\"],[\"Mahindra\"],[\"Ambassador\"],[\"Ford\"],[\"Ambassador\"],[\"Ford\"],[\"Audi\"],[\"Skoda\"],[\"Renault\"],[\"Mahindra\"],[\"Land\"],[\"Skoda\"],[\"Honda\"],[\"Tata\"],[\"Tata\"],[\"Mahindra\"],[\"Maruti\"],[\"Audi\"],[\"Tata\"],[\"Maruti\"],[\"Honda\"],[\"Tata\"],[\"Maruti\"],[\"Honda\"],[\"BMW\"],[\"Tata\"],[\"Maruti\"],[\"BMW\"],[\"Land\"],[\"Renault\"],[\"Honda\"],[\"Maruti\"],[\"Chevrolet\"],[\"Hyundai\"],[\"Toyota\"],[\"Maruti\"],[\"Chevrolet\"],[\"Hyundai\"],[\"Chevrolet\"],[\"Mercedes-Benz\"],[\"Hyundai\"],[\"Mercedes-Benz\"],[\"Chevrolet\"],[\"Toyota\"],[\"Skoda\"],[\"Mercedes-Benz\"],[\"Chevrolet\"],[\"Hyundai\"],[\"MG\"],[\"Toyota\"],[\"Mitsubishi\"],[\"Daewoo\"],[\"Hyundai\"],[\"Mitsubishi\"],[\"Hyundai\"],[\"Isuzu\"],[\"Nissan\"],[\"Toyota\"],[\"Toyota\"],[\"Datsun\"],[\"Jaguar\"],[\"Nissan\"],[\"Volkswagen\"],[\"Jaguar\"],[\"Datsun\"],[\"Volkswagen\"],[\"Nissan\"],[\"Volkswagen\"],[\"MG\"],[\"OpelCorsa\"],[\"Jeep\"],[\"Fiat\"],[\"Renault\"],[\"Volkswagen\"],[\"Jeep\"],[\"Ford\"],[\"Fiat\"],[\"Kia\"],[\"Force\"],[\"Renault\"],[\"Volvo\"],[\"Ford\"],[\"(?)\"],[\"(?)\"],[\"(?)\"],[\"Toyota\"],[\"(?)\"],[\"(?)\"],[\"(?)\"],[\"(?)\"],[\"(?)\"],[\"(?)\"]],\"domain\":{\"x\":[0.0,1.0],\"y\":[0.0,1.0]},\"hovertemplate\":\"labels=%{label}\\u003cbr\\u003eprice=%{value}\\u003cbr\\u003eparent=%{parent}\\u003cbr\\u003eid=%{id}\\u003cbr\\u003ename_2=%{customdata[0]}\\u003cextra\\u003e\\u003c\\u002fextra\\u003e\",\"ids\":[\"all\\u002fManual\\u002fDiesel\\u002fSkoda\",\"all\\u002fAutomatic\\u002fDiesel\\u002fMahindra\",\"all\\u002fManual\\u002fDiesel\\u002fAmbassador\",\"all\\u002fAutomatic\\u002fPetrol\\u002fFord\",\"all\\u002fManual\\u002fPetrol\\u002fAmbassador\",\"all\\u002fManual\\u002fPetrol\\u002fFord\",\"all\\u002fAutomatic\\u002fDiesel\\u002fAudi\",\"all\\u002fAutomatic\\u002fPetrol\\u002fSkoda\",\"all\\u002fAutomatic\\u002fPetrol\\u002fRenault\",\"all\\u002fManual\\u002fDiesel\\u002fMahindra\",\"all\\u002fAutomatic\\u002fDiesel\\u002fLand\",\"all\\u002fManual\\u002fPetrol\\u002fSkoda\",\"all\\u002fAutomatic\\u002fDiesel\\u002fHonda\",\"all\\u002fManual\\u002fCNG\\u002fTata\",\"all\\u002fAutomatic\\u002fDiesel\\u002fTata\",\"all\\u002fManual\\u002fPetrol\\u002fMahindra\",\"all\\u002fManual\\u002fCNG\\u002fMaruti\",\"all\\u002fAutomatic\\u002fPetrol\\u002fAudi\",\"all\\u002fManual\\u002fDiesel\\u002fTata\",\"all\\u002fAutomatic\\u002fDiesel\\u002fMaruti\",\"all\\u002fManual\\u002fDiesel\\u002fHonda\",\"all\\u002fAutomatic\\u002fPetrol\\u002fTata\",\"all\\u002fManual\\u002fDiesel\\u002fMaruti\",\"all\\u002fAutomatic\\u002fPetrol\\u002fHonda\",\"all\\u002fAutomatic\\u002fDiesel\\u002fBMW\",\"all\\u002fManual\\u002fPetrol\\u002fTata\",\"all\\u002fManual\\u002fLPG\\u002fMaruti\",\"all\\u002fAutomatic\\u002fPetrol\\u002fBMW\",\"all\\u002fAutomatic\\u002fPetrol\\u002fLand\",\"all\\u002fManual\\u002fPetrol\\u002fRenault\",\"all\\u002fManual\\u002fPetrol\\u002fHonda\",\"all\\u002fAutomatic\\u002fPetrol\\u002fMaruti\",\"all\\u002fManual\\u002fCNG\\u002fChevrolet\",\"all\\u002fManual\\u002fCNG\\u002fHyundai\",\"all\\u002fAutomatic\\u002fDiesel\\u002fToyota\",\"all\\u002fManual\\u002fPetrol\\u002fMaruti\",\"all\\u002fAutomatic\\u002fDiesel\\u002fChevrolet\",\"all\\u002fAutomatic\\u002fDiesel\\u002fHyundai\",\"all\\u002fManual\\u002fDiesel\\u002fChevrolet\",\"all\\u002fAutomatic\\u002fDiesel\\u002fMercedes-Benz\",\"all\\u002fManual\\u002fDiesel\\u002fHyundai\",\"all\\u002fManual\\u002fDiesel\\u002fMercedes-Benz\",\"all\\u002fManual\\u002fLPG\\u002fChevrolet\",\"all\\u002fManual\\u002fDiesel\\u002fToyota\",\"all\\u002fAutomatic\\u002fDiesel\\u002fSkoda\",\"all\\u002fAutomatic\\u002fPetrol\\u002fMercedes-Benz\",\"all\\u002fManual\\u002fPetrol\\u002fChevrolet\",\"all\\u002fManual\\u002fLPG\\u002fHyundai\",\"all\\u002fManual\\u002fDiesel\\u002fMG\",\"all\\u002fAutomatic\\u002fElectric\\u002fToyota\",\"all\\u002fManual\\u002fDiesel\\u002fMitsubishi\",\"all\\u002fManual\\u002fPetrol\\u002fDaewoo\",\"all\\u002fAutomatic\\u002fPetrol\\u002fHyundai\",\"all\\u002fAutomatic\\u002fPetrol\\u002fMitsubishi\",\"all\\u002fManual\\u002fPetrol\\u002fHyundai\",\"all\\u002fManual\\u002fDiesel\\u002fIsuzu\",\"all\\u002fManual\\u002fDiesel\\u002fNissan\",\"all\\u002fAutomatic\\u002fPetrol\\u002fToyota\",\"all\\u002fManual\\u002fPetrol\\u002fToyota\",\"all\\u002fAutomatic\\u002fPetrol\\u002fDatsun\",\"all\\u002fAutomatic\\u002fDiesel\\u002fJaguar\",\"all\\u002fAutomatic\\u002fPetrol\\u002fNissan\",\"all\\u002fAutomatic\\u002fDiesel\\u002fVolkswagen\",\"all\\u002fAutomatic\\u002fPetrol\\u002fJaguar\",\"all\\u002fManual\\u002fPetrol\\u002fDatsun\",\"all\\u002fManual\\u002fDiesel\\u002fVolkswagen\",\"all\\u002fManual\\u002fPetrol\\u002fNissan\",\"all\\u002fAutomatic\\u002fPetrol\\u002fVolkswagen\",\"all\\u002fAutomatic\\u002fPetrol\\u002fMG\",\"all\\u002fManual\\u002fPetrol\\u002fOpelCorsa\",\"all\\u002fManual\\u002fDiesel\\u002fJeep\",\"all\\u002fManual\\u002fDiesel\\u002fFiat\",\"all\\u002fAutomatic\\u002fDiesel\\u002fRenault\",\"all\\u002fManual\\u002fPetrol\\u002fVolkswagen\",\"all\\u002fManual\\u002fPetrol\\u002fJeep\",\"all\\u002fManual\\u002fDiesel\\u002fFord\",\"all\\u002fManual\\u002fPetrol\\u002fFiat\",\"all\\u002fAutomatic\\u002fDiesel\\u002fKia\",\"all\\u002fManual\\u002fDiesel\\u002fForce\",\"all\\u002fManual\\u002fDiesel\\u002fRenault\",\"all\\u002fAutomatic\\u002fDiesel\\u002fVolvo\",\"all\\u002fAutomatic\\u002fDiesel\\u002fFord\",\"all\\u002fManual\\u002fCNG\",\"all\\u002fAutomatic\\u002fDiesel\",\"all\\u002fManual\\u002fDiesel\",\"all\\u002fAutomatic\\u002fElectric\",\"all\\u002fManual\\u002fLPG\",\"all\\u002fAutomatic\\u002fPetrol\",\"all\\u002fManual\\u002fPetrol\",\"all\\u002fAutomatic\",\"all\\u002fManual\",\"all\"],\"labels\":[\"Skoda\",\"Mahindra\",\"Ambassador\",\"Ford\",\"Ambassador\",\"Ford\",\"Audi\",\"Skoda\",\"Renault\",\"Mahindra\",\"Land\",\"Skoda\",\"Honda\",\"Tata\",\"Tata\",\"Mahindra\",\"Maruti\",\"Audi\",\"Tata\",\"Maruti\",\"Honda\",\"Tata\",\"Maruti\",\"Honda\",\"BMW\",\"Tata\",\"Maruti\",\"BMW\",\"Land\",\"Renault\",\"Honda\",\"Maruti\",\"Chevrolet\",\"Hyundai\",\"Toyota\",\"Maruti\",\"Chevrolet\",\"Hyundai\",\"Chevrolet\",\"Mercedes-Benz\",\"Hyundai\",\"Mercedes-Benz\",\"Chevrolet\",\"Toyota\",\"Skoda\",\"Mercedes-Benz\",\"Chevrolet\",\"Hyundai\",\"MG\",\"Toyota\",\"Mitsubishi\",\"Daewoo\",\"Hyundai\",\"Mitsubishi\",\"Hyundai\",\"Isuzu\",\"Nissan\",\"Toyota\",\"Toyota\",\"Datsun\",\"Jaguar\",\"Nissan\",\"Volkswagen\",\"Jaguar\",\"Datsun\",\"Volkswagen\",\"Nissan\",\"Volkswagen\",\"MG\",\"OpelCorsa\",\"Jeep\",\"Fiat\",\"Renault\",\"Volkswagen\",\"Jeep\",\"Ford\",\"Fiat\",\"Kia\",\"Force\",\"Renault\",\"Volvo\",\"Ford\",\"CNG\",\"Diesel\",\"Diesel\",\"Electric\",\"LPG\",\"Petrol\",\"Petrol\",\"Automatic\",\"Manual\",\"all\"],\"marker\":{\"colors\":[\"#EF553B\",\"#00cc96\",\"#ab63fa\",\"#FFA15A\",\"#ab63fa\",\"#FFA15A\",\"#19d3f3\",\"#EF553B\",\"#FF6692\",\"#00cc96\",\"#B6E880\",\"#EF553B\",\"#FF97FF\",\"#FECB52\",\"#FECB52\",\"#00cc96\",\"#636efa\",\"#19d3f3\",\"#FECB52\",\"#636efa\",\"#FF97FF\",\"#FECB52\",\"#636efa\",\"#FF97FF\",\"#EF553B\",\"#FECB52\",\"#636efa\",\"#EF553B\",\"#B6E880\",\"#FF6692\",\"#FF97FF\",\"#636efa\",\"#00cc96\",\"#ab63fa\",\"#FFA15A\",\"#636efa\",\"#00cc96\",\"#ab63fa\",\"#00cc96\",\"#19d3f3\",\"#ab63fa\",\"#19d3f3\",\"#00cc96\",\"#FFA15A\",\"#EF553B\",\"#19d3f3\",\"#00cc96\",\"#ab63fa\",\"#FF6692\",\"#FFA15A\",\"#B6E880\",\"#FF97FF\",\"#ab63fa\",\"#B6E880\",\"#ab63fa\",\"#FECB52\",\"#636efa\",\"#FFA15A\",\"#FFA15A\",\"#EF553B\",\"#00cc96\",\"#636efa\",\"#ab63fa\",\"#00cc96\",\"#EF553B\",\"#ab63fa\",\"#636efa\",\"#ab63fa\",\"#FF6692\",\"#FFA15A\",\"#19d3f3\",\"#FF6692\",\"#FF6692\",\"#ab63fa\",\"#19d3f3\",\"#FFA15A\",\"#FF6692\",\"#B6E880\",\"#FF97FF\",\"#FF6692\",\"#FECB52\",\"#FFA15A\",\"lightgrey\",\"lightgrey\",\"lightgrey\",\"#FFA15A\",\"lightgrey\",\"lightgrey\",\"lightgrey\",\"lightgrey\",\"lightgrey\",\"lightgrey\"]},\"name\":\"\",\"parents\":[\"all\\u002fManual\\u002fDiesel\",\"all\\u002fAutomatic\\u002fDiesel\",\"all\\u002fManual\\u002fDiesel\",\"all\\u002fAutomatic\\u002fPetrol\",\"all\\u002fManual\\u002fPetrol\",\"all\\u002fManual\\u002fPetrol\",\"all\\u002fAutomatic\\u002fDiesel\",\"all\\u002fAutomatic\\u002fPetrol\",\"all\\u002fAutomatic\\u002fPetrol\",\"all\\u002fManual\\u002fDiesel\",\"all\\u002fAutomatic\\u002fDiesel\",\"all\\u002fManual\\u002fPetrol\",\"all\\u002fAutomatic\\u002fDiesel\",\"all\\u002fManual\\u002fCNG\",\"all\\u002fAutomatic\\u002fDiesel\",\"all\\u002fManual\\u002fPetrol\",\"all\\u002fManual\\u002fCNG\",\"all\\u002fAutomatic\\u002fPetrol\",\"all\\u002fManual\\u002fDiesel\",\"all\\u002fAutomatic\\u002fDiesel\",\"all\\u002fManual\\u002fDiesel\",\"all\\u002fAutomatic\\u002fPetrol\",\"all\\u002fManual\\u002fDiesel\",\"all\\u002fAutomatic\\u002fPetrol\",\"all\\u002fAutomatic\\u002fDiesel\",\"all\\u002fManual\\u002fPetrol\",\"all\\u002fManual\\u002fLPG\",\"all\\u002fAutomatic\\u002fPetrol\",\"all\\u002fAutomatic\\u002fPetrol\",\"all\\u002fManual\\u002fPetrol\",\"all\\u002fManual\\u002fPetrol\",\"all\\u002fAutomatic\\u002fPetrol\",\"all\\u002fManual\\u002fCNG\",\"all\\u002fManual\\u002fCNG\",\"all\\u002fAutomatic\\u002fDiesel\",\"all\\u002fManual\\u002fPetrol\",\"all\\u002fAutomatic\\u002fDiesel\",\"all\\u002fAutomatic\\u002fDiesel\",\"all\\u002fManual\\u002fDiesel\",\"all\\u002fAutomatic\\u002fDiesel\",\"all\\u002fManual\\u002fDiesel\",\"all\\u002fManual\\u002fDiesel\",\"all\\u002fManual\\u002fLPG\",\"all\\u002fManual\\u002fDiesel\",\"all\\u002fAutomatic\\u002fDiesel\",\"all\\u002fAutomatic\\u002fPetrol\",\"all\\u002fManual\\u002fPetrol\",\"all\\u002fManual\\u002fLPG\",\"all\\u002fManual\\u002fDiesel\",\"all\\u002fAutomatic\\u002fElectric\",\"all\\u002fManual\\u002fDiesel\",\"all\\u002fManual\\u002fPetrol\",\"all\\u002fAutomatic\\u002fPetrol\",\"all\\u002fAutomatic\\u002fPetrol\",\"all\\u002fManual\\u002fPetrol\",\"all\\u002fManual\\u002fDiesel\",\"all\\u002fManual\\u002fDiesel\",\"all\\u002fAutomatic\\u002fPetrol\",\"all\\u002fManual\\u002fPetrol\",\"all\\u002fAutomatic\\u002fPetrol\",\"all\\u002fAutomatic\\u002fDiesel\",\"all\\u002fAutomatic\\u002fPetrol\",\"all\\u002fAutomatic\\u002fDiesel\",\"all\\u002fAutomatic\\u002fPetrol\",\"all\\u002fManual\\u002fPetrol\",\"all\\u002fManual\\u002fDiesel\",\"all\\u002fManual\\u002fPetrol\",\"all\\u002fAutomatic\\u002fPetrol\",\"all\\u002fAutomatic\\u002fPetrol\",\"all\\u002fManual\\u002fPetrol\",\"all\\u002fManual\\u002fDiesel\",\"all\\u002fManual\\u002fDiesel\",\"all\\u002fAutomatic\\u002fDiesel\",\"all\\u002fManual\\u002fPetrol\",\"all\\u002fManual\\u002fPetrol\",\"all\\u002fManual\\u002fDiesel\",\"all\\u002fManual\\u002fPetrol\",\"all\\u002fAutomatic\\u002fDiesel\",\"all\\u002fManual\\u002fDiesel\",\"all\\u002fManual\\u002fDiesel\",\"all\\u002fAutomatic\\u002fDiesel\",\"all\\u002fAutomatic\\u002fDiesel\",\"all\\u002fManual\",\"all\\u002fAutomatic\",\"all\\u002fManual\",\"all\\u002fAutomatic\",\"all\\u002fManual\",\"all\\u002fAutomatic\",\"all\\u002fManual\",\"all\",\"all\",\"\"],\"values\":[385000.0,859999.5,120000.0,730500.0,430000.0,410000.0,1580000.0,750000.0,350000.0,550000.0,3750000.0,300000.0,1800000.0,185000.0,1200000.0,420000.0,300000.0,1850000.0,198500.0,800000.0,600000.0,475500.0,509999.0,428000.0,2675000.0,150000.0,110000.0,480000.0,4000000.0,300000.0,404999.5,450000.0,229999.0,142500.0,2600000.0,204999.0,650000.0,1075000.0,225000.0,3800000.0,509999.0,524500.0,200000.0,657500.0,599000.0,1050000.0,170000.0,245000.0,1825000.0,310000.0,825000.0,60000.0,520000.0,525000.0,260000.0,1500000.0,495000.0,1650000.0,400000.0,295000.0,1964999.0,434999.0,717000.0,2050000.0,280000.0,350000.0,350000.0,825000.0,1860000.0,88500.0,1595000.0,250999.0,750000.0,400000.0,1400000.0,500000.0,215000.0,1300000.0,346000.0,450000.0,1987500.0,2650000.0,857499.0,30758498.5,12417497.0,310000.0,555000.0,18723999.0,6243498.5,49792497.5,20073494.5,69865992.0],\"type\":\"treemap\"}],                        {\"template\":{\"data\":{\"barpolar\":[{\"marker\":{\"line\":{\"color\":\"white\",\"width\":0.5},\"pattern\":{\"fillmode\":\"overlay\",\"size\":10,\"solidity\":0.2}},\"type\":\"barpolar\"}],\"bar\":[{\"error_x\":{\"color\":\"#2a3f5f\"},\"error_y\":{\"color\":\"#2a3f5f\"},\"marker\":{\"line\":{\"color\":\"white\",\"width\":0.5},\"pattern\":{\"fillmode\":\"overlay\",\"size\":10,\"solidity\":0.2}},\"type\":\"bar\"}],\"carpet\":[{\"aaxis\":{\"endlinecolor\":\"#2a3f5f\",\"gridcolor\":\"#C8D4E3\",\"linecolor\":\"#C8D4E3\",\"minorgridcolor\":\"#C8D4E3\",\"startlinecolor\":\"#2a3f5f\"},\"baxis\":{\"endlinecolor\":\"#2a3f5f\",\"gridcolor\":\"#C8D4E3\",\"linecolor\":\"#C8D4E3\",\"minorgridcolor\":\"#C8D4E3\",\"startlinecolor\":\"#2a3f5f\"},\"type\":\"carpet\"}],\"choropleth\":[{\"colorbar\":{\"outlinewidth\":0,\"ticks\":\"\"},\"type\":\"choropleth\"}],\"contourcarpet\":[{\"colorbar\":{\"outlinewidth\":0,\"ticks\":\"\"},\"type\":\"contourcarpet\"}],\"contour\":[{\"colorbar\":{\"outlinewidth\":0,\"ticks\":\"\"},\"colorscale\":[[0.0,\"#0d0887\"],[0.1111111111111111,\"#46039f\"],[0.2222222222222222,\"#7201a8\"],[0.3333333333333333,\"#9c179e\"],[0.4444444444444444,\"#bd3786\"],[0.5555555555555556,\"#d8576b\"],[0.6666666666666666,\"#ed7953\"],[0.7777777777777778,\"#fb9f3a\"],[0.8888888888888888,\"#fdca26\"],[1.0,\"#f0f921\"]],\"type\":\"contour\"}],\"heatmapgl\":[{\"colorbar\":{\"outlinewidth\":0,\"ticks\":\"\"},\"colorscale\":[[0.0,\"#0d0887\"],[0.1111111111111111,\"#46039f\"],[0.2222222222222222,\"#7201a8\"],[0.3333333333333333,\"#9c179e\"],[0.4444444444444444,\"#bd3786\"],[0.5555555555555556,\"#d8576b\"],[0.6666666666666666,\"#ed7953\"],[0.7777777777777778,\"#fb9f3a\"],[0.8888888888888888,\"#fdca26\"],[1.0,\"#f0f921\"]],\"type\":\"heatmapgl\"}],\"heatmap\":[{\"colorbar\":{\"outlinewidth\":0,\"ticks\":\"\"},\"colorscale\":[[0.0,\"#0d0887\"],[0.1111111111111111,\"#46039f\"],[0.2222222222222222,\"#7201a8\"],[0.3333333333333333,\"#9c179e\"],[0.4444444444444444,\"#bd3786\"],[0.5555555555555556,\"#d8576b\"],[0.6666666666666666,\"#ed7953\"],[0.7777777777777778,\"#fb9f3a\"],[0.8888888888888888,\"#fdca26\"],[1.0,\"#f0f921\"]],\"type\":\"heatmap\"}],\"histogram2dcontour\":[{\"colorbar\":{\"outlinewidth\":0,\"ticks\":\"\"},\"colorscale\":[[0.0,\"#0d0887\"],[0.1111111111111111,\"#46039f\"],[0.2222222222222222,\"#7201a8\"],[0.3333333333333333,\"#9c179e\"],[0.4444444444444444,\"#bd3786\"],[0.5555555555555556,\"#d8576b\"],[0.6666666666666666,\"#ed7953\"],[0.7777777777777778,\"#fb9f3a\"],[0.8888888888888888,\"#fdca26\"],[1.0,\"#f0f921\"]],\"type\":\"histogram2dcontour\"}],\"histogram2d\":[{\"colorbar\":{\"outlinewidth\":0,\"ticks\":\"\"},\"colorscale\":[[0.0,\"#0d0887\"],[0.1111111111111111,\"#46039f\"],[0.2222222222222222,\"#7201a8\"],[0.3333333333333333,\"#9c179e\"],[0.4444444444444444,\"#bd3786\"],[0.5555555555555556,\"#d8576b\"],[0.6666666666666666,\"#ed7953\"],[0.7777777777777778,\"#fb9f3a\"],[0.8888888888888888,\"#fdca26\"],[1.0,\"#f0f921\"]],\"type\":\"histogram2d\"}],\"histogram\":[{\"marker\":{\"pattern\":{\"fillmode\":\"overlay\",\"size\":10,\"solidity\":0.2}},\"type\":\"histogram\"}],\"mesh3d\":[{\"colorbar\":{\"outlinewidth\":0,\"ticks\":\"\"},\"type\":\"mesh3d\"}],\"parcoords\":[{\"line\":{\"colorbar\":{\"outlinewidth\":0,\"ticks\":\"\"}},\"type\":\"parcoords\"}],\"pie\":[{\"automargin\":true,\"type\":\"pie\"}],\"scatter3d\":[{\"line\":{\"colorbar\":{\"outlinewidth\":0,\"ticks\":\"\"}},\"marker\":{\"colorbar\":{\"outlinewidth\":0,\"ticks\":\"\"}},\"type\":\"scatter3d\"}],\"scattercarpet\":[{\"marker\":{\"colorbar\":{\"outlinewidth\":0,\"ticks\":\"\"}},\"type\":\"scattercarpet\"}],\"scattergeo\":[{\"marker\":{\"colorbar\":{\"outlinewidth\":0,\"ticks\":\"\"}},\"type\":\"scattergeo\"}],\"scattergl\":[{\"marker\":{\"colorbar\":{\"outlinewidth\":0,\"ticks\":\"\"}},\"type\":\"scattergl\"}],\"scattermapbox\":[{\"marker\":{\"colorbar\":{\"outlinewidth\":0,\"ticks\":\"\"}},\"type\":\"scattermapbox\"}],\"scatterpolargl\":[{\"marker\":{\"colorbar\":{\"outlinewidth\":0,\"ticks\":\"\"}},\"type\":\"scatterpolargl\"}],\"scatterpolar\":[{\"marker\":{\"colorbar\":{\"outlinewidth\":0,\"ticks\":\"\"}},\"type\":\"scatterpolar\"}],\"scatter\":[{\"fillpattern\":{\"fillmode\":\"overlay\",\"size\":10,\"solidity\":0.2},\"type\":\"scatter\"}],\"scatterternary\":[{\"marker\":{\"colorbar\":{\"outlinewidth\":0,\"ticks\":\"\"}},\"type\":\"scatterternary\"}],\"surface\":[{\"colorbar\":{\"outlinewidth\":0,\"ticks\":\"\"},\"colorscale\":[[0.0,\"#0d0887\"],[0.1111111111111111,\"#46039f\"],[0.2222222222222222,\"#7201a8\"],[0.3333333333333333,\"#9c179e\"],[0.4444444444444444,\"#bd3786\"],[0.5555555555555556,\"#d8576b\"],[0.6666666666666666,\"#ed7953\"],[0.7777777777777778,\"#fb9f3a\"],[0.8888888888888888,\"#fdca26\"],[1.0,\"#f0f921\"]],\"type\":\"surface\"}],\"table\":[{\"cells\":{\"fill\":{\"color\":\"#EBF0F8\"},\"line\":{\"color\":\"white\"}},\"header\":{\"fill\":{\"color\":\"#C8D4E3\"},\"line\":{\"color\":\"white\"}},\"type\":\"table\"}]},\"layout\":{\"annotationdefaults\":{\"arrowcolor\":\"#2a3f5f\",\"arrowhead\":0,\"arrowwidth\":1},\"autotypenumbers\":\"strict\",\"coloraxis\":{\"colorbar\":{\"outlinewidth\":0,\"ticks\":\"\"}},\"colorscale\":{\"diverging\":[[0,\"#8e0152\"],[0.1,\"#c51b7d\"],[0.2,\"#de77ae\"],[0.3,\"#f1b6da\"],[0.4,\"#fde0ef\"],[0.5,\"#f7f7f7\"],[0.6,\"#e6f5d0\"],[0.7,\"#b8e186\"],[0.8,\"#7fbc41\"],[0.9,\"#4d9221\"],[1,\"#276419\"]],\"sequential\":[[0.0,\"#0d0887\"],[0.1111111111111111,\"#46039f\"],[0.2222222222222222,\"#7201a8\"],[0.3333333333333333,\"#9c179e\"],[0.4444444444444444,\"#bd3786\"],[0.5555555555555556,\"#d8576b\"],[0.6666666666666666,\"#ed7953\"],[0.7777777777777778,\"#fb9f3a\"],[0.8888888888888888,\"#fdca26\"],[1.0,\"#f0f921\"]],\"sequentialminus\":[[0.0,\"#0d0887\"],[0.1111111111111111,\"#46039f\"],[0.2222222222222222,\"#7201a8\"],[0.3333333333333333,\"#9c179e\"],[0.4444444444444444,\"#bd3786\"],[0.5555555555555556,\"#d8576b\"],[0.6666666666666666,\"#ed7953\"],[0.7777777777777778,\"#fb9f3a\"],[0.8888888888888888,\"#fdca26\"],[1.0,\"#f0f921\"]]},\"colorway\":[\"#636efa\",\"#EF553B\",\"#00cc96\",\"#ab63fa\",\"#FFA15A\",\"#19d3f3\",\"#FF6692\",\"#B6E880\",\"#FF97FF\",\"#FECB52\"],\"font\":{\"color\":\"#2a3f5f\"},\"geo\":{\"bgcolor\":\"white\",\"lakecolor\":\"white\",\"landcolor\":\"white\",\"showlakes\":true,\"showland\":true,\"subunitcolor\":\"#C8D4E3\"},\"hoverlabel\":{\"align\":\"left\"},\"hovermode\":\"closest\",\"mapbox\":{\"style\":\"light\"},\"paper_bgcolor\":\"white\",\"plot_bgcolor\":\"white\",\"polar\":{\"angularaxis\":{\"gridcolor\":\"#EBF0F8\",\"linecolor\":\"#EBF0F8\",\"ticks\":\"\"},\"bgcolor\":\"white\",\"radialaxis\":{\"gridcolor\":\"#EBF0F8\",\"linecolor\":\"#EBF0F8\",\"ticks\":\"\"}},\"scene\":{\"xaxis\":{\"backgroundcolor\":\"white\",\"gridcolor\":\"#DFE8F3\",\"gridwidth\":2,\"linecolor\":\"#EBF0F8\",\"showbackground\":true,\"ticks\":\"\",\"zerolinecolor\":\"#EBF0F8\"},\"yaxis\":{\"backgroundcolor\":\"white\",\"gridcolor\":\"#DFE8F3\",\"gridwidth\":2,\"linecolor\":\"#EBF0F8\",\"showbackground\":true,\"ticks\":\"\",\"zerolinecolor\":\"#EBF0F8\"},\"zaxis\":{\"backgroundcolor\":\"white\",\"gridcolor\":\"#DFE8F3\",\"gridwidth\":2,\"linecolor\":\"#EBF0F8\",\"showbackground\":true,\"ticks\":\"\",\"zerolinecolor\":\"#EBF0F8\"}},\"shapedefaults\":{\"line\":{\"color\":\"#2a3f5f\"}},\"ternary\":{\"aaxis\":{\"gridcolor\":\"#DFE8F3\",\"linecolor\":\"#A2B1C6\",\"ticks\":\"\"},\"baxis\":{\"gridcolor\":\"#DFE8F3\",\"linecolor\":\"#A2B1C6\",\"ticks\":\"\"},\"bgcolor\":\"white\",\"caxis\":{\"gridcolor\":\"#DFE8F3\",\"linecolor\":\"#A2B1C6\",\"ticks\":\"\"}},\"title\":{\"x\":0.05},\"xaxis\":{\"automargin\":true,\"gridcolor\":\"#EBF0F8\",\"linecolor\":\"#EBF0F8\",\"ticks\":\"\",\"title\":{\"standoff\":15},\"zerolinecolor\":\"#EBF0F8\",\"zerolinewidth\":2},\"yaxis\":{\"automargin\":true,\"gridcolor\":\"#EBF0F8\",\"linecolor\":\"#EBF0F8\",\"ticks\":\"\",\"title\":{\"standoff\":15},\"zerolinecolor\":\"#EBF0F8\",\"zerolinewidth\":2}}},\"legend\":{\"tracegroupgap\":0},\"margin\":{\"t\":50,\"l\":25,\"r\":25,\"b\":25}},                        {\"responsive\": true}                    ).then(function(){\n",
       "                            \n",
       "var gd = document.getElementById('f1961593-33b4-4fbb-af5a-025ee10603e1');\n",
       "var x = new MutationObserver(function (mutations, observer) {{\n",
       "        var display = window.getComputedStyle(gd).display;\n",
       "        if (!display || display === 'none') {{\n",
       "            console.log([gd, 'removed!']);\n",
       "            Plotly.purge(gd);\n",
       "            observer.disconnect();\n",
       "        }}\n",
       "}});\n",
       "\n",
       "// Listen for the removal of the full notebook cells\n",
       "var notebookContainer = gd.closest('#notebook-container');\n",
       "if (notebookContainer) {{\n",
       "    x.observe(notebookContainer, {childList: true});\n",
       "}}\n",
       "\n",
       "// Listen for the clearing of the current output cell\n",
       "var outputEl = gd.closest('.output');\n",
       "if (outputEl) {{\n",
       "    x.observe(outputEl, {childList: true});\n",
       "}}\n",
       "\n",
       "                        })                };                });            </script>        </div>"
      ]
     },
     "metadata": {},
     "output_type": "display_data"
    }
   ],
   "source": [
    "df1 = df.groupby([\"transmission\", \"fuel\", \"name_2\"], as_index=False)[['selling_price']].median().rename(columns={'selling_price':'price'})\n",
    "\n",
    "fig = px.treemap(df1, path=[px.Constant(\"all\"), \"transmission\", \"fuel\", \"name_2\"],\n",
    "                 values='price', color='name_2',\n",
    "                 color_discrete_map={'(?)': 'lightgrey'})\n",
    "\n",
    "fig.update_layout(template='plotly_white')  # Change the template to 'plotly_white' for light grey background\n",
    "fig.update_layout(margin=dict(t=50, l=25, r=25, b=25))\n",
    "fig.show()\n"
   ]
  },
  {
   "cell_type": "code",
   "execution_count": 85,
   "id": "da4d8d27",
   "metadata": {},
   "outputs": [
    {
     "data": {
      "image/png": "[encoded data removed]",
      "text/plain": [
       "<Figure size 864x864 with 2 Axes>"
      ]
     },
     "metadata": {
      "needs_background": "light"
     },
     "output_type": "display_data"
    }
   ],
   "source": [
    "fig, ax = plt.subplots(figsize=(12, 12))\n",
    "corr1 = df.corr()\n",
    "colors = [\"#B9DDF1\", \"#9FCAE6\", \"#73A4CA\", \"#497AA7\", \"#2E5B88\"]\n",
    "sns.heatmap(corr1, ax=ax, annot=True, cmap=sns.color_palette(colors), fmt=\".2f\", linewidths=.5, vmin=-1, vmax=1)\n",
    "\n",
    "plt.show()\n"
   ]
  },
  {
   "cell_type": "code",
   "execution_count": 53,
   "id": "2a7a2c01",
   "metadata": {},
   "outputs": [
    {
     "data": {
      "image/png": "[encoded data removed]",
      "text/plain": [
       "<Figure size 1440x576 with 1 Axes>"
      ]
     },
     "metadata": {
      "needs_background": "light"
     },
     "output_type": "display_data"
    }
   ],
   "source": [
    "f, ax = plt.subplots(figsize=(20,8))\n",
    "sns.boxplot(x=df[\"name_2\"].values, y = df[\"km_driven\"].values,palette=\"twilight\",ax=ax)\n",
    "plt.xticks(rotation=90)\n",
    "plt.show()"
   ]
  },
  {
   "cell_type": "code",
   "execution_count": 108,
   "id": "0a3b9497",
   "metadata": {},
   "outputs": [
    {
     "data": {
      "image/png": "[encoded data removed]",
      "text/plain": [
       "<Figure size 1440x576 with 1 Axes>"
      ]
     },
     "metadata": {
      "needs_background": "light"
     },
     "output_type": "display_data"
    }
   ],
   "source": [
    "f, ax = plt.subplots(figsize=(20,8))\n",
    "sns.boxplot(x=df[\"name_2\"].values, y = df[\"selling_price\"].values,palette=\"twilight\",ax=ax)\n",
    "plt.xticks(rotation=90)\n",
    "plt.show()"
   ]
  },
  {
   "cell_type": "code",
   "execution_count": 56,
   "id": "d55f804d",
   "metadata": {},
   "outputs": [
    {
     "data": {
      "application/vnd.plotly.v1+json": {
       "config": {
        "plotlyServerURL": "https://plot.ly"
       },
       "data": [
        {
         "branchvalues": "total",
         "customdata": [
          [
           2013
          ],
          [
           2014
          ],
          [
           2015
          ],
          [
           2016
          ],
          [
           2017
          ],
          [
           2018
          ],
          [
           2019
          ],
          [
           2020
          ],
          [
           2013
          ],
          [
           2014
          ],
          [
           2015
          ],
          [
           2016
          ],
          [
           2017
          ],
          [
           2018
          ],
          [
           2019
          ],
          [
           2013
          ],
          [
           2014
          ],
          [
           2015
          ],
          [
           2016
          ],
          [
           2017
          ],
          [
           2014
          ],
          [
           2015
          ],
          [
           2016
          ],
          [
           2017
          ],
          [
           2018
          ],
          [
           2019
          ],
          [
           2013
          ],
          [
           2014
          ],
          [
           2015
          ],
          [
           2016
          ],
          [
           2017
          ],
          [
           2018
          ],
          [
           2014
          ],
          [
           2013
          ],
          [
           2014
          ],
          [
           2015
          ],
          [
           2016
          ],
          [
           2017
          ],
          [
           2018
          ],
          [
           2019
          ],
          [
           2020
          ],
          [
           2013
          ],
          [
           2014
          ],
          [
           2015
          ],
          [
           2016
          ],
          [
           2017
          ],
          [
           2018
          ],
          [
           2019
          ],
          [
           2020
          ],
          [
           2013
          ],
          [
           2014
          ],
          [
           2015
          ],
          [
           2016
          ],
          [
           2017
          ],
          [
           2018
          ],
          [
           2019
          ],
          [
           2020
          ],
          [
           2018
          ],
          [
           2013
          ],
          [
           2014
          ],
          [
           2017
          ],
          [
           2018
          ],
          [
           2019
          ],
          [
           2019
          ],
          [
           2016
          ],
          [
           2018
          ],
          [
           2019
          ],
          [
           2013
          ],
          [
           2014
          ],
          [
           2015
          ],
          [
           2016
          ],
          [
           2017
          ],
          [
           2018
          ],
          [
           2019
          ],
          [
           2020
          ],
          [
           2013
          ],
          [
           2014
          ],
          [
           2015
          ],
          [
           2016
          ],
          [
           2017
          ],
          [
           2018
          ],
          [
           2019
          ],
          [
           2020
          ],
          [
           2013
          ],
          [
           2014
          ],
          [
           2016
          ],
          [
           2017
          ],
          [
           2018
          ],
          [
           2013
          ],
          [
           2014
          ],
          [
           2015
          ],
          [
           2016
          ],
          [
           2017
          ],
          [
           2018
          ],
          [
           2019
          ],
          [
           2013
          ],
          [
           2014
          ],
          [
           2015
          ],
          [
           2016
          ],
          [
           2017
          ],
          [
           2018
          ],
          [
           2019
          ],
          [
           2020
          ],
          [
           2013
          ],
          [
           2014
          ],
          [
           2015
          ],
          [
           2016
          ],
          [
           2017
          ],
          [
           2018
          ],
          [
           2019
          ],
          [
           2013
          ],
          [
           2014
          ],
          [
           2015
          ],
          [
           2016
          ],
          [
           2017
          ],
          [
           2018
          ],
          [
           2019
          ],
          [
           2020
          ],
          [
           2013
          ],
          [
           2014
          ],
          [
           2015
          ],
          [
           2016
          ],
          [
           2017
          ],
          [
           2018
          ],
          [
           2019
          ],
          [
           2013
          ],
          [
           2014
          ],
          [
           2015
          ],
          [
           2016
          ],
          [
           2017
          ],
          [
           2018
          ],
          [
           2019
          ],
          [
           2020
          ],
          [
           2014
          ],
          [
           2017
          ],
          [
           2018
          ],
          [
           2013
          ],
          [
           2014
          ],
          [
           2015
          ],
          [
           2016
          ],
          [
           2017
          ],
          [
           2018
          ],
          [
           2019
          ],
          [
           2020
          ]
         ],
         "domain": {
          "x": [
           0,
           1
          ],
          "y": [
           0,
           1
          ]
         },
         "hovertemplate": "labels=%{label}<br>year_sum=%{value}<br>parent=%{parent}<br>id=%{id}<br>year=%{color}<extra></extra>",
         "ids": [
          "2013/Audi",
          "2014/Audi",
          "2015/Audi",
          "2016/Audi",
          "2017/Audi",
          "2018/Audi",
          "2019/Audi",
          "2020/Audi",
          "2013/BMW",
          "2014/BMW",
          "2015/BMW",
          "2016/BMW",
          "2017/BMW",
          "2018/BMW",
          "2019/BMW",
          "2013/Chevrolet",
          "2014/Chevrolet",
          "2015/Chevrolet",
          "2016/Chevrolet",
          "2017/Chevrolet",
          "2014/Datsun",
          "2015/Datsun",
          "2016/Datsun",
          "2017/Datsun",
          "2018/Datsun",
          "2019/Datsun",
          "2013/Fiat",
          "2014/Fiat",
          "2015/Fiat",
          "2016/Fiat",
          "2017/Fiat",
          "2018/Fiat",
          "2014/Force",
          "2013/Ford",
          "2014/Ford",
          "2015/Ford",
          "2016/Ford",
          "2017/Ford",
          "2018/Ford",
          "2019/Ford",
          "2020/Ford",
          "2013/Honda",
          "2014/Honda",
          "2015/Honda",
          "2016/Honda",
          "2017/Honda",
          "2018/Honda",
          "2019/Honda",
          "2020/Honda",
          "2013/Hyundai",
          "2014/Hyundai",
          "2015/Hyundai",
          "2016/Hyundai",
          "2017/Hyundai",
          "2018/Hyundai",
          "2019/Hyundai",
          "2020/Hyundai",
          "2018/Isuzu",
          "2013/Jaguar",
          "2014/Jaguar",
          "2017/Jeep",
          "2018/Jeep",
          "2019/Jeep",
          "2019/Kia",
          "2016/Land",
          "2018/Land",
          "2019/MG",
          "2013/Mahindra",
          "2014/Mahindra",
          "2015/Mahindra",
          "2016/Mahindra",
          "2017/Mahindra",
          "2018/Mahindra",
          "2019/Mahindra",
          "2020/Mahindra",
          "2013/Maruti",
          "2014/Maruti",
          "2015/Maruti",
          "2016/Maruti",
          "2017/Maruti",
          "2018/Maruti",
          "2019/Maruti",
          "2020/Maruti",
          "2013/Mercedes-Benz",
          "2014/Mercedes-Benz",
          "2016/Mercedes-Benz",
          "2017/Mercedes-Benz",
          "2018/Mercedes-Benz",
          "2013/Nissan",
          "2014/Nissan",
          "2015/Nissan",
          "2016/Nissan",
          "2017/Nissan",
          "2018/Nissan",
          "2019/Nissan",
          "2013/Renault",
          "2014/Renault",
          "2015/Renault",
          "2016/Renault",
          "2017/Renault",
          "2018/Renault",
          "2019/Renault",
          "2020/Renault",
          "2013/Skoda",
          "2014/Skoda",
          "2015/Skoda",
          "2016/Skoda",
          "2017/Skoda",
          "2018/Skoda",
          "2019/Skoda",
          "2013/Tata",
          "2014/Tata",
          "2015/Tata",
          "2016/Tata",
          "2017/Tata",
          "2018/Tata",
          "2019/Tata",
          "2020/Tata",
          "2013/Toyota",
          "2014/Toyota",
          "2015/Toyota",
          "2016/Toyota",
          "2017/Toyota",
          "2018/Toyota",
          "2019/Toyota",
          "2013/Volkswagen",
          "2014/Volkswagen",
          "2015/Volkswagen",
          "2016/Volkswagen",
          "2017/Volkswagen",
          "2018/Volkswagen",
          "2019/Volkswagen",
          "2020/Volkswagen",
          "2014/Volvo",
          "2017/Volvo",
          "2018/Volvo",
          "2013",
          "2014",
          "2015",
          "2016",
          "2017",
          "2018",
          "2019",
          "2020"
         ],
         "labels": [
          "Audi",
          "Audi",
          "Audi",
          "Audi",
          "Audi",
          "Audi",
          "Audi",
          "Audi",
          "BMW",
          "BMW",
          "BMW",
          "BMW",
          "BMW",
          "BMW",
          "BMW",
          "Chevrolet",
          "Chevrolet",
          "Chevrolet",
          "Chevrolet",
          "Chevrolet",
          "Datsun",
          "Datsun",
          "Datsun",
          "Datsun",
          "Datsun",
          "Datsun",
          "Fiat",
          "Fiat",
          "Fiat",
          "Fiat",
          "Fiat",
          "Fiat",
          "Force",
          "Ford",
          "Ford",
          "Ford",
          "Ford",
          "Ford",
          "Ford",
          "Ford",
          "Ford",
          "Honda",
          "Honda",
          "Honda",
          "Honda",
          "Honda",
          "Honda",
          "Honda",
          "Honda",
          "Hyundai",
          "Hyundai",
          "Hyundai",
          "Hyundai",
          "Hyundai",
          "Hyundai",
          "Hyundai",
          "Hyundai",
          "Isuzu",
          "Jaguar",
          "Jaguar",
          "Jeep",
          "Jeep",
          "Jeep",
          "Kia",
          "Land",
          "Land",
          "MG",
          "Mahindra",
          "Mahindra",
          "Mahindra",
          "Mahindra",
          "Mahindra",
          "Mahindra",
          "Mahindra",
          "Mahindra",
          "Maruti",
          "Maruti",
          "Maruti",
          "Maruti",
          "Maruti",
          "Maruti",
          "Maruti",
          "Maruti",
          "Mercedes-Benz",
          "Mercedes-Benz",
          "Mercedes-Benz",
          "Mercedes-Benz",
          "Mercedes-Benz",
          "Nissan",
          "Nissan",
          "Nissan",
          "Nissan",
          "Nissan",
          "Nissan",
          "Nissan",
          "Renault",
          "Renault",
          "Renault",
          "Renault",
          "Renault",
          "Renault",
          "Renault",
          "Renault",
          "Skoda",
          "Skoda",
          "Skoda",
          "Skoda",
          "Skoda",
          "Skoda",
          "Skoda",
          "Tata",
          "Tata",
          "Tata",
          "Tata",
          "Tata",
          "Tata",
          "Tata",
          "Tata",
          "Toyota",
          "Toyota",
          "Toyota",
          "Toyota",
          "Toyota",
          "Toyota",
          "Toyota",
          "Volkswagen",
          "Volkswagen",
          "Volkswagen",
          "Volkswagen",
          "Volkswagen",
          "Volkswagen",
          "Volkswagen",
          "Volkswagen",
          "Volvo",
          "Volvo",
          "Volvo",
          "2013",
          "2014",
          "2015",
          "2016",
          "2017",
          "2018",
          "2019",
          "2020"
         ],
         "marker": {
          "coloraxis": "coloraxis",
          "colors": [
           2013,
           2014,
           2015,
           2016,
           2017,
           2018,
           2019,
           2020,
           2013,
           2014,
           2015,
           2016,
           2017,
           2018,
           2019,
           2013,
           2014,
           2015,
           2016,
           2017,
           2014,
           2015,
           2016,
           2017,
           2018,
           2019,
           2013,
           2014,
           2015,
           2016,
           2017,
           2018,
           2014,
           2013,
           2014,
           2015,
           2016,
           2017,
           2018,
           2019,
           2020,
           2013,
           2014,
           2015,
           2016,
           2017,
           2018,
           2019,
           2020,
           2013,
           2014,
           2015,
           2016,
           2017,
           2018,
           2019,
           2020,
           2018,
           2013,
           2014,
           2017,
           2018,
           2019,
           2019,
           2016,
           2018,
           2019,
           2013,
           2014,
           2015,
           2016,
           2017,
           2018,
           2019,
           2020,
           2013,
           2014,
           2015,
           2016,
           2017,
           2018,
           2019,
           2020,
           2013,
           2014,
           2016,
           2017,
           2018,
           2013,
           2014,
           2015,
           2016,
           2017,
           2018,
           2019,
           2013,
           2014,
           2015,
           2016,
           2017,
           2018,
           2019,
           2020,
           2013,
           2014,
           2015,
           2016,
           2017,
           2018,
           2019,
           2013,
           2014,
           2015,
           2016,
           2017,
           2018,
           2019,
           2020,
           2013,
           2014,
           2015,
           2016,
           2017,
           2018,
           2019,
           2013,
           2014,
           2015,
           2016,
           2017,
           2018,
           2019,
           2020,
           2014,
           2017,
           2018,
           2013,
           2014,
           2015,
           2016,
           2017,
           2018,
           2019,
           2020
          ]
         },
         "name": "",
         "parents": [
          "2013",
          "2014",
          "2015",
          "2016",
          "2017",
          "2018",
          "2019",
          "2020",
          "2013",
          "2014",
          "2015",
          "2016",
          "2017",
          "2018",
          "2019",
          "2013",
          "2014",
          "2015",
          "2016",
          "2017",
          "2014",
          "2015",
          "2016",
          "2017",
          "2018",
          "2019",
          "2013",
          "2014",
          "2015",
          "2016",
          "2017",
          "2018",
          "2014",
          "2013",
          "2014",
          "2015",
          "2016",
          "2017",
          "2018",
          "2019",
          "2020",
          "2013",
          "2014",
          "2015",
          "2016",
          "2017",
          "2018",
          "2019",
          "2020",
          "2013",
          "2014",
          "2015",
          "2016",
          "2017",
          "2018",
          "2019",
          "2020",
          "2018",
          "2013",
          "2014",
          "2017",
          "2018",
          "2019",
          "2019",
          "2016",
          "2018",
          "2019",
          "2013",
          "2014",
          "2015",
          "2016",
          "2017",
          "2018",
          "2019",
          "2020",
          "2013",
          "2014",
          "2015",
          "2016",
          "2017",
          "2018",
          "2019",
          "2020",
          "2013",
          "2014",
          "2016",
          "2017",
          "2018",
          "2013",
          "2014",
          "2015",
          "2016",
          "2017",
          "2018",
          "2019",
          "2013",
          "2014",
          "2015",
          "2016",
          "2017",
          "2018",
          "2019",
          "2020",
          "2013",
          "2014",
          "2015",
          "2016",
          "2017",
          "2018",
          "2019",
          "2013",
          "2014",
          "2015",
          "2016",
          "2017",
          "2018",
          "2019",
          "2020",
          "2013",
          "2014",
          "2015",
          "2016",
          "2017",
          "2018",
          "2019",
          "2013",
          "2014",
          "2015",
          "2016",
          "2017",
          "2018",
          "2019",
          "2020",
          "2014",
          "2017",
          "2018",
          "",
          "",
          "",
          "",
          "",
          "",
          "",
          ""
         ],
         "type": "sunburst",
         "values": [
          48312,
          16112,
          10075,
          2016,
          2017,
          10090,
          2019,
          2020,
          4026,
          4028,
          2015,
          2016,
          12102,
          4036,
          28266,
          34221,
          36252,
          30225,
          42336,
          2017,
          4028,
          18135,
          8064,
          26221,
          16144,
          2019,
          6039,
          12084,
          8060,
          2016,
          2017,
          4036,
          2014,
          28182,
          48336,
          38285,
          32256,
          62527,
          44396,
          26247,
          26260,
          26169,
          84588,
          50375,
          48384,
          62527,
          82738,
          10095,
          4040,
          84546,
          108756,
          189410,
          165312,
          197666,
          141260,
          86817,
          20200,
          2018,
          2013,
          2014,
          2017,
          2018,
          2019,
          2019,
          2016,
          4036,
          4038,
          50325,
          66462,
          78585,
          76608,
          68578,
          78702,
          32304,
          6060,
          92598,
          193344,
          261950,
          209664,
          286414,
          211890,
          129216,
          26260,
          8052,
          8056,
          2016,
          2017,
          26234,
          24156,
          26182,
          18135,
          10080,
          10085,
          2018,
          4038,
          50325,
          12084,
          36270,
          40320,
          70595,
          28252,
          12114,
          4040,
          12078,
          10070,
          12090,
          2016,
          10085,
          2018,
          2019,
          46299,
          46322,
          36270,
          36288,
          32272,
          50450,
          38361,
          6060,
          26169,
          44308,
          40300,
          30240,
          60510,
          20180,
          6057,
          20130,
          12084,
          18135,
          8064,
          28238,
          6054,
          6057,
          2020,
          2014,
          2017,
          2018,
          563640,
          739138,
          848315,
          719712,
          939922,
          738588,
          393705,
          96960
         ]
        }
       ],
       "layout": {
        "coloraxis": {
         "colorbar": {
          "title": {
           "text": "year"
          }
         },
         "colorscale": [
          [
           0,
           "#0d0887"
          ],
          [
           0.1111111111111111,
           "#46039f"
          ],
          [
           0.2222222222222222,
           "#7201a8"
          ],
          [
           0.3333333333333333,
           "#9c179e"
          ],
          [
           0.4444444444444444,
           "#bd3786"
          ],
          [
           0.5555555555555556,
           "#d8576b"
          ],
          [
           0.6666666666666666,
           "#ed7953"
          ],
          [
           0.7777777777777778,
           "#fb9f3a"
          ],
          [
           0.8888888888888888,
           "#fdca26"
          ],
          [
           1,
           "#f0f921"
          ]
         ]
        },
        "legend": {
         "tracegroupgap": 0
        },
        "margin": {
         "t": 60
        },
        "template": {
         "data": {
          "bar": [
           {
            "error_x": {
             "color": "#2a3f5f"
            },
            "error_y": {
             "color": "#2a3f5f"
            },
            "marker": {
             "line": {
              "color": "#E5ECF6",
              "width": 0.5
             },
             "pattern": {
              "fillmode": "overlay",
              "size": 10,
              "solidity": 0.2
             }
            },
            "type": "bar"
           }
          ],
          "barpolar": [
           {
            "marker": {
             "line": {
              "color": "#E5ECF6",
              "width": 0.5
             },
             "pattern": {
              "fillmode": "overlay",
              "size": 10,
              "solidity": 0.2
             }
            },
            "type": "barpolar"
           }
          ],
          "carpet": [
           {
            "aaxis": {
             "endlinecolor": "#2a3f5f",
             "gridcolor": "white",
             "linecolor": "white",
             "minorgridcolor": "white",
             "startlinecolor": "#2a3f5f"
            },
            "baxis": {
             "endlinecolor": "#2a3f5f",
             "gridcolor": "white",
             "linecolor": "white",
             "minorgridcolor": "white",
             "startlinecolor": "#2a3f5f"
            },
            "type": "carpet"
           }
          ],
          "choropleth": [
           {
            "colorbar": {
             "outlinewidth": 0,
             "ticks": ""
            },
            "type": "choropleth"
           }
          ],
          "contour": [
           {
            "colorbar": {
             "outlinewidth": 0,
             "ticks": ""
            },
            "colorscale": [
             [
              0,
              "#0d0887"
             ],
             [
              0.1111111111111111,
              "#46039f"
             ],
             [
              0.2222222222222222,
              "#7201a8"
             ],
             [
              0.3333333333333333,
              "#9c179e"
             ],
             [
              0.4444444444444444,
              "#bd3786"
             ],
             [
              0.5555555555555556,
              "#d8576b"
             ],
             [
              0.6666666666666666,
              "#ed7953"
             ],
             [
              0.7777777777777778,
              "#fb9f3a"
             ],
             [
              0.8888888888888888,
              "#fdca26"
             ],
             [
              1,
              "#f0f921"
             ]
            ],
            "type": "contour"
           }
          ],
          "contourcarpet": [
           {
            "colorbar": {
             "outlinewidth": 0,
             "ticks": ""
            },
            "type": "contourcarpet"
           }
          ],
          "heatmap": [
           {
            "colorbar": {
             "outlinewidth": 0,
             "ticks": ""
            },
            "colorscale": [
             [
              0,
              "#0d0887"
             ],
             [
              0.1111111111111111,
              "#46039f"
             ],
             [
              0.2222222222222222,
              "#7201a8"
             ],
             [
              0.3333333333333333,
              "#9c179e"
             ],
             [
              0.4444444444444444,
              "#bd3786"
             ],
             [
              0.5555555555555556,
              "#d8576b"
             ],
             [
              0.6666666666666666,
              "#ed7953"
             ],
             [
              0.7777777777777778,
              "#fb9f3a"
             ],
             [
              0.8888888888888888,
              "#fdca26"
             ],
             [
              1,
              "#f0f921"
             ]
            ],
            "type": "heatmap"
           }
          ],
          "heatmapgl": [
           {
            "colorbar": {
             "outlinewidth": 0,
             "ticks": ""
            },
            "colorscale": [
             [
              0,
              "#0d0887"
             ],
             [
              0.1111111111111111,
              "#46039f"
             ],
             [
              0.2222222222222222,
              "#7201a8"
             ],
             [
              0.3333333333333333,
              "#9c179e"
             ],
             [
              0.4444444444444444,
              "#bd3786"
             ],
             [
              0.5555555555555556,
              "#d8576b"
             ],
             [
              0.6666666666666666,
              "#ed7953"
             ],
             [
              0.7777777777777778,
              "#fb9f3a"
             ],
             [
              0.8888888888888888,
              "#fdca26"
             ],
             [
              1,
              "#f0f921"
             ]
            ],
            "type": "heatmapgl"
           }
          ],
          "histogram": [
           {
            "marker": {
             "pattern": {
              "fillmode": "overlay",
              "size": 10,
              "solidity": 0.2
             }
            },
            "type": "histogram"
           }
          ],
          "histogram2d": [
           {
            "colorbar": {
             "outlinewidth": 0,
             "ticks": ""
            },
            "colorscale": [
             [
              0,
              "#0d0887"
             ],
             [
              0.1111111111111111,
              "#46039f"
             ],
             [
              0.2222222222222222,
              "#7201a8"
             ],
             [
              0.3333333333333333,
              "#9c179e"
             ],
             [
              0.4444444444444444,
              "#bd3786"
             ],
             [
              0.5555555555555556,
              "#d8576b"
             ],
             [
              0.6666666666666666,
              "#ed7953"
             ],
             [
              0.7777777777777778,
              "#fb9f3a"
             ],
             [
              0.8888888888888888,
              "#fdca26"
             ],
             [
              1,
              "#f0f921"
             ]
            ],
            "type": "histogram2d"
           }
          ],
          "histogram2dcontour": [
           {
            "colorbar": {
             "outlinewidth": 0,
             "ticks": ""
            },
            "colorscale": [
             [
              0,
              "#0d0887"
             ],
             [
              0.1111111111111111,
              "#46039f"
             ],
             [
              0.2222222222222222,
              "#7201a8"
             ],
             [
              0.3333333333333333,
              "#9c179e"
             ],
             [
              0.4444444444444444,
              "#bd3786"
             ],
             [
              0.5555555555555556,
              "#d8576b"
             ],
             [
              0.6666666666666666,
              "#ed7953"
             ],
             [
              0.7777777777777778,
              "#fb9f3a"
             ],
             [
              0.8888888888888888,
              "#fdca26"
             ],
             [
              1,
              "#f0f921"
             ]
            ],
            "type": "histogram2dcontour"
           }
          ],
          "mesh3d": [
           {
            "colorbar": {
             "outlinewidth": 0,
             "ticks": ""
            },
            "type": "mesh3d"
           }
          ],
          "parcoords": [
           {
            "line": {
             "colorbar": {
              "outlinewidth": 0,
              "ticks": ""
             }
            },
            "type": "parcoords"
           }
          ],
          "pie": [
           {
            "automargin": true,
            "type": "pie"
           }
          ],
          "scatter": [
           {
            "fillpattern": {
             "fillmode": "overlay",
             "size": 10,
             "solidity": 0.2
            },
            "type": "scatter"
           }
          ],
          "scatter3d": [
           {
            "line": {
             "colorbar": {
              "outlinewidth": 0,
              "ticks": ""
             }
            },
            "marker": {
             "colorbar": {
              "outlinewidth": 0,
              "ticks": ""
             }
            },
            "type": "scatter3d"
           }
          ],
          "scattercarpet": [
           {
            "marker": {
             "colorbar": {
              "outlinewidth": 0,
              "ticks": ""
             }
            },
            "type": "scattercarpet"
           }
          ],
          "scattergeo": [
           {
            "marker": {
             "colorbar": {
              "outlinewidth": 0,
              "ticks": ""
             }
            },
            "type": "scattergeo"
           }
          ],
          "scattergl": [
           {
            "marker": {
             "colorbar": {
              "outlinewidth": 0,
              "ticks": ""
             }
            },
            "type": "scattergl"
           }
          ],
          "scattermapbox": [
           {
            "marker": {
             "colorbar": {
              "outlinewidth": 0,
              "ticks": ""
             }
            },
            "type": "scattermapbox"
           }
          ],
          "scatterpolar": [
           {
            "marker": {
             "colorbar": {
              "outlinewidth": 0,
              "ticks": ""
             }
            },
            "type": "scatterpolar"
           }
          ],
          "scatterpolargl": [
           {
            "marker": {
             "colorbar": {
              "outlinewidth": 0,
              "ticks": ""
             }
            },
            "type": "scatterpolargl"
           }
          ],
          "scatterternary": [
           {
            "marker": {
             "colorbar": {
              "outlinewidth": 0,
              "ticks": ""
             }
            },
            "type": "scatterternary"
           }
          ],
          "surface": [
           {
            "colorbar": {
             "outlinewidth": 0,
             "ticks": ""
            },
            "colorscale": [
             [
              0,
              "#0d0887"
             ],
             [
              0.1111111111111111,
              "#46039f"
             ],
             [
              0.2222222222222222,
              "#7201a8"
             ],
             [
              0.3333333333333333,
              "#9c179e"
             ],
             [
              0.4444444444444444,
              "#bd3786"
             ],
             [
              0.5555555555555556,
              "#d8576b"
             ],
             [
              0.6666666666666666,
              "#ed7953"
             ],
             [
              0.7777777777777778,
              "#fb9f3a"
             ],
             [
              0.8888888888888888,
              "#fdca26"
             ],
             [
              1,
              "#f0f921"
             ]
            ],
            "type": "surface"
           }
          ],
          "table": [
           {
            "cells": {
             "fill": {
              "color": "#EBF0F8"
             },
             "line": {
              "color": "white"
             }
            },
            "header": {
             "fill": {
              "color": "#C8D4E3"
             },
             "line": {
              "color": "white"
             }
            },
            "type": "table"
           }
          ]
         },
         "layout": {
          "annotationdefaults": {
           "arrowcolor": "#2a3f5f",
           "arrowhead": 0,
           "arrowwidth": 1
          },
          "autotypenumbers": "strict",
          "coloraxis": {
           "colorbar": {
            "outlinewidth": 0,
            "ticks": ""
           }
          },
          "colorscale": {
           "diverging": [
            [
             0,
             "#8e0152"
            ],
            [
             0.1,
             "#c51b7d"
            ],
            [
             0.2,
             "#de77ae"
            ],
            [
             0.3,
             "#f1b6da"
            ],
            [
             0.4,
             "#fde0ef"
            ],
            [
             0.5,
             "#f7f7f7"
            ],
            [
             0.6,
             "#e6f5d0"
            ],
            [
             0.7,
             "#b8e186"
            ],
            [
             0.8,
             "#7fbc41"
            ],
            [
             0.9,
             "#4d9221"
            ],
            [
             1,
             "#276419"
            ]
           ],
           "sequential": [
            [
             0,
             "#0d0887"
            ],
            [
             0.1111111111111111,
             "#46039f"
            ],
            [
             0.2222222222222222,
             "#7201a8"
            ],
            [
             0.3333333333333333,
             "#9c179e"
            ],
            [
             0.4444444444444444,
             "#bd3786"
            ],
            [
             0.5555555555555556,
             "#d8576b"
            ],
            [
             0.6666666666666666,
             "#ed7953"
            ],
            [
             0.7777777777777778,
             "#fb9f3a"
            ],
            [
             0.8888888888888888,
             "#fdca26"
            ],
            [
             1,
             "#f0f921"
            ]
           ],
           "sequentialminus": [
            [
             0,
             "#0d0887"
            ],
            [
             0.1111111111111111,
             "#46039f"
            ],
            [
             0.2222222222222222,
             "#7201a8"
            ],
            [
             0.3333333333333333,
             "#9c179e"
            ],
            [
             0.4444444444444444,
             "#bd3786"
            ],
            [
             0.5555555555555556,
             "#d8576b"
            ],
            [
             0.6666666666666666,
             "#ed7953"
            ],
            [
             0.7777777777777778,
             "#fb9f3a"
            ],
            [
             0.8888888888888888,
             "#fdca26"
            ],
            [
             1,
             "#f0f921"
            ]
           ]
          },
          "colorway": [
           "#636efa",
           "#EF553B",
           "#00cc96",
           "#ab63fa",
           "#FFA15A",
           "#19d3f3",
           "#FF6692",
           "#B6E880",
           "#FF97FF",
           "#FECB52"
          ],
          "font": {
           "color": "#2a3f5f"
          },
          "geo": {
           "bgcolor": "white",
           "lakecolor": "white",
           "landcolor": "#E5ECF6",
           "showlakes": true,
           "showland": true,
           "subunitcolor": "white"
          },
          "hoverlabel": {
           "align": "left"
          },
          "hovermode": "closest",
          "mapbox": {
           "style": "light"
          },
          "paper_bgcolor": "white",
          "plot_bgcolor": "#E5ECF6",
          "polar": {
           "angularaxis": {
            "gridcolor": "white",
            "linecolor": "white",
            "ticks": ""
           },
           "bgcolor": "#E5ECF6",
           "radialaxis": {
            "gridcolor": "white",
            "linecolor": "white",
            "ticks": ""
           }
          },
          "scene": {
           "xaxis": {
            "backgroundcolor": "#E5ECF6",
            "gridcolor": "white",
            "gridwidth": 2,
            "linecolor": "white",
            "showbackground": true,
            "ticks": "",
            "zerolinecolor": "white"
           },
           "yaxis": {
            "backgroundcolor": "#E5ECF6",
            "gridcolor": "white",
            "gridwidth": 2,
            "linecolor": "white",
            "showbackground": true,
            "ticks": "",
            "zerolinecolor": "white"
           },
           "zaxis": {
            "backgroundcolor": "#E5ECF6",
            "gridcolor": "white",
            "gridwidth": 2,
            "linecolor": "white",
            "showbackground": true,
            "ticks": "",
            "zerolinecolor": "white"
           }
          },
          "shapedefaults": {
           "line": {
            "color": "#2a3f5f"
           }
          },
          "ternary": {
           "aaxis": {
            "gridcolor": "white",
            "linecolor": "white",
            "ticks": ""
           },
           "baxis": {
            "gridcolor": "white",
            "linecolor": "white",
            "ticks": ""
           },
           "bgcolor": "#E5ECF6",
           "caxis": {
            "gridcolor": "white",
            "linecolor": "white",
            "ticks": ""
           }
          },
          "title": {
           "x": 0.05
          },
          "xaxis": {
           "automargin": true,
           "gridcolor": "white",
           "linecolor": "white",
           "ticks": "",
           "title": {
            "standoff": 15
           },
           "zerolinecolor": "white",
           "zerolinewidth": 2
          },
          "yaxis": {
           "automargin": true,
           "gridcolor": "white",
           "linecolor": "white",
           "ticks": "",
           "title": {
            "standoff": 15
           },
           "zerolinecolor": "white",
           "zerolinewidth": 2
          }
         }
        }
       }
      },
      "text/html": [
       "<div>                            <div id=\"b9827b44-5f0a-4ce5-ab09-21ea47a131ff\" class=\"plotly-graph-div\" style=\"height:525px; width:100%;\"></div>            <script type=\"text/javascript\">                require([\"plotly\"], function(Plotly) {                    window.PLOTLYENV=window.PLOTLYENV || {};                                    if (document.getElementById(\"b9827b44-5f0a-4ce5-ab09-21ea47a131ff\")) {                    Plotly.newPlot(                        \"b9827b44-5f0a-4ce5-ab09-21ea47a131ff\",                        [{\"branchvalues\":\"total\",\"customdata\":[[2013.0],[2014.0],[2015.0],[2016.0],[2017.0],[2018.0],[2019.0],[2020.0],[2013.0],[2014.0],[2015.0],[2016.0],[2017.0],[2018.0],[2019.0],[2013.0],[2014.0],[2015.0],[2016.0],[2017.0],[2014.0],[2015.0],[2016.0],[2017.0],[2018.0],[2019.0],[2013.0],[2014.0],[2015.0],[2016.0],[2017.0],[2018.0],[2014.0],[2013.0],[2014.0],[2015.0],[2016.0],[2017.0],[2018.0],[2019.0],[2020.0],[2013.0],[2014.0],[2015.0],[2016.0],[2017.0],[2018.0],[2019.0],[2020.0],[2013.0],[2014.0],[2015.0],[2016.0],[2017.0],[2018.0],[2019.0],[2020.0],[2018.0],[2013.0],[2014.0],[2017.0],[2018.0],[2019.0],[2019.0],[2016.0],[2018.0],[2019.0],[2013.0],[2014.0],[2015.0],[2016.0],[2017.0],[2018.0],[2019.0],[2020.0],[2013.0],[2014.0],[2015.0],[2016.0],[2017.0],[2018.0],[2019.0],[2020.0],[2013.0],[2014.0],[2016.0],[2017.0],[2018.0],[2013.0],[2014.0],[2015.0],[2016.0],[2017.0],[2018.0],[2019.0],[2013.0],[2014.0],[2015.0],[2016.0],[2017.0],[2018.0],[2019.0],[2020.0],[2013.0],[2014.0],[2015.0],[2016.0],[2017.0],[2018.0],[2019.0],[2013.0],[2014.0],[2015.0],[2016.0],[2017.0],[2018.0],[2019.0],[2020.0],[2013.0],[2014.0],[2015.0],[2016.0],[2017.0],[2018.0],[2019.0],[2013.0],[2014.0],[2015.0],[2016.0],[2017.0],[2018.0],[2019.0],[2020.0],[2014.0],[2017.0],[2018.0],[2013.0],[2014.0],[2015.0],[2016.0],[2017.0],[2018.0],[2019.0],[2020.0]],\"domain\":{\"x\":[0.0,1.0],\"y\":[0.0,1.0]},\"hovertemplate\":\"labels=%{label}\\u003cbr\\u003eyear_sum=%{value}\\u003cbr\\u003eparent=%{parent}\\u003cbr\\u003eid=%{id}\\u003cbr\\u003eyear=%{color}\\u003cextra\\u003e\\u003c\\u002fextra\\u003e\",\"ids\":[\"2013\\u002fAudi\",\"2014\\u002fAudi\",\"2015\\u002fAudi\",\"2016\\u002fAudi\",\"2017\\u002fAudi\",\"2018\\u002fAudi\",\"2019\\u002fAudi\",\"2020\\u002fAudi\",\"2013\\u002fBMW\",\"2014\\u002fBMW\",\"2015\\u002fBMW\",\"2016\\u002fBMW\",\"2017\\u002fBMW\",\"2018\\u002fBMW\",\"2019\\u002fBMW\",\"2013\\u002fChevrolet\",\"2014\\u002fChevrolet\",\"2015\\u002fChevrolet\",\"2016\\u002fChevrolet\",\"2017\\u002fChevrolet\",\"2014\\u002fDatsun\",\"2015\\u002fDatsun\",\"2016\\u002fDatsun\",\"2017\\u002fDatsun\",\"2018\\u002fDatsun\",\"2019\\u002fDatsun\",\"2013\\u002fFiat\",\"2014\\u002fFiat\",\"2015\\u002fFiat\",\"2016\\u002fFiat\",\"2017\\u002fFiat\",\"2018\\u002fFiat\",\"2014\\u002fForce\",\"2013\\u002fFord\",\"2014\\u002fFord\",\"2015\\u002fFord\",\"2016\\u002fFord\",\"2017\\u002fFord\",\"2018\\u002fFord\",\"2019\\u002fFord\",\"2020\\u002fFord\",\"2013\\u002fHonda\",\"2014\\u002fHonda\",\"2015\\u002fHonda\",\"2016\\u002fHonda\",\"2017\\u002fHonda\",\"2018\\u002fHonda\",\"2019\\u002fHonda\",\"2020\\u002fHonda\",\"2013\\u002fHyundai\",\"2014\\u002fHyundai\",\"2015\\u002fHyundai\",\"2016\\u002fHyundai\",\"2017\\u002fHyundai\",\"2018\\u002fHyundai\",\"2019\\u002fHyundai\",\"2020\\u002fHyundai\",\"2018\\u002fIsuzu\",\"2013\\u002fJaguar\",\"2014\\u002fJaguar\",\"2017\\u002fJeep\",\"2018\\u002fJeep\",\"2019\\u002fJeep\",\"2019\\u002fKia\",\"2016\\u002fLand\",\"2018\\u002fLand\",\"2019\\u002fMG\",\"2013\\u002fMahindra\",\"2014\\u002fMahindra\",\"2015\\u002fMahindra\",\"2016\\u002fMahindra\",\"2017\\u002fMahindra\",\"2018\\u002fMahindra\",\"2019\\u002fMahindra\",\"2020\\u002fMahindra\",\"2013\\u002fMaruti\",\"2014\\u002fMaruti\",\"2015\\u002fMaruti\",\"2016\\u002fMaruti\",\"2017\\u002fMaruti\",\"2018\\u002fMaruti\",\"2019\\u002fMaruti\",\"2020\\u002fMaruti\",\"2013\\u002fMercedes-Benz\",\"2014\\u002fMercedes-Benz\",\"2016\\u002fMercedes-Benz\",\"2017\\u002fMercedes-Benz\",\"2018\\u002fMercedes-Benz\",\"2013\\u002fNissan\",\"2014\\u002fNissan\",\"2015\\u002fNissan\",\"2016\\u002fNissan\",\"2017\\u002fNissan\",\"2018\\u002fNissan\",\"2019\\u002fNissan\",\"2013\\u002fRenault\",\"2014\\u002fRenault\",\"2015\\u002fRenault\",\"2016\\u002fRenault\",\"2017\\u002fRenault\",\"2018\\u002fRenault\",\"2019\\u002fRenault\",\"2020\\u002fRenault\",\"2013\\u002fSkoda\",\"2014\\u002fSkoda\",\"2015\\u002fSkoda\",\"2016\\u002fSkoda\",\"2017\\u002fSkoda\",\"2018\\u002fSkoda\",\"2019\\u002fSkoda\",\"2013\\u002fTata\",\"2014\\u002fTata\",\"2015\\u002fTata\",\"2016\\u002fTata\",\"2017\\u002fTata\",\"2018\\u002fTata\",\"2019\\u002fTata\",\"2020\\u002fTata\",\"2013\\u002fToyota\",\"2014\\u002fToyota\",\"2015\\u002fToyota\",\"2016\\u002fToyota\",\"2017\\u002fToyota\",\"2018\\u002fToyota\",\"2019\\u002fToyota\",\"2013\\u002fVolkswagen\",\"2014\\u002fVolkswagen\",\"2015\\u002fVolkswagen\",\"2016\\u002fVolkswagen\",\"2017\\u002fVolkswagen\",\"2018\\u002fVolkswagen\",\"2019\\u002fVolkswagen\",\"2020\\u002fVolkswagen\",\"2014\\u002fVolvo\",\"2017\\u002fVolvo\",\"2018\\u002fVolvo\",\"2013\",\"2014\",\"2015\",\"2016\",\"2017\",\"2018\",\"2019\",\"2020\"],\"labels\":[\"Audi\",\"Audi\",\"Audi\",\"Audi\",\"Audi\",\"Audi\",\"Audi\",\"Audi\",\"BMW\",\"BMW\",\"BMW\",\"BMW\",\"BMW\",\"BMW\",\"BMW\",\"Chevrolet\",\"Chevrolet\",\"Chevrolet\",\"Chevrolet\",\"Chevrolet\",\"Datsun\",\"Datsun\",\"Datsun\",\"Datsun\",\"Datsun\",\"Datsun\",\"Fiat\",\"Fiat\",\"Fiat\",\"Fiat\",\"Fiat\",\"Fiat\",\"Force\",\"Ford\",\"Ford\",\"Ford\",\"Ford\",\"Ford\",\"Ford\",\"Ford\",\"Ford\",\"Honda\",\"Honda\",\"Honda\",\"Honda\",\"Honda\",\"Honda\",\"Honda\",\"Honda\",\"Hyundai\",\"Hyundai\",\"Hyundai\",\"Hyundai\",\"Hyundai\",\"Hyundai\",\"Hyundai\",\"Hyundai\",\"Isuzu\",\"Jaguar\",\"Jaguar\",\"Jeep\",\"Jeep\",\"Jeep\",\"Kia\",\"Land\",\"Land\",\"MG\",\"Mahindra\",\"Mahindra\",\"Mahindra\",\"Mahindra\",\"Mahindra\",\"Mahindra\",\"Mahindra\",\"Mahindra\",\"Maruti\",\"Maruti\",\"Maruti\",\"Maruti\",\"Maruti\",\"Maruti\",\"Maruti\",\"Maruti\",\"Mercedes-Benz\",\"Mercedes-Benz\",\"Mercedes-Benz\",\"Mercedes-Benz\",\"Mercedes-Benz\",\"Nissan\",\"Nissan\",\"Nissan\",\"Nissan\",\"Nissan\",\"Nissan\",\"Nissan\",\"Renault\",\"Renault\",\"Renault\",\"Renault\",\"Renault\",\"Renault\",\"Renault\",\"Renault\",\"Skoda\",\"Skoda\",\"Skoda\",\"Skoda\",\"Skoda\",\"Skoda\",\"Skoda\",\"Tata\",\"Tata\",\"Tata\",\"Tata\",\"Tata\",\"Tata\",\"Tata\",\"Tata\",\"Toyota\",\"Toyota\",\"Toyota\",\"Toyota\",\"Toyota\",\"Toyota\",\"Toyota\",\"Volkswagen\",\"Volkswagen\",\"Volkswagen\",\"Volkswagen\",\"Volkswagen\",\"Volkswagen\",\"Volkswagen\",\"Volkswagen\",\"Volvo\",\"Volvo\",\"Volvo\",\"2013\",\"2014\",\"2015\",\"2016\",\"2017\",\"2018\",\"2019\",\"2020\"],\"marker\":{\"coloraxis\":\"coloraxis\",\"colors\":[2013.0,2014.0,2015.0,2016.0,2017.0,2018.0,2019.0,2020.0,2013.0,2014.0,2015.0,2016.0,2017.0,2018.0,2019.0,2013.0,2014.0,2015.0,2016.0,2017.0,2014.0,2015.0,2016.0,2017.0,2018.0,2019.0,2013.0,2014.0,2015.0,2016.0,2017.0,2018.0,2014.0,2013.0,2014.0,2015.0,2016.0,2017.0,2018.0,2019.0,2020.0,2013.0,2014.0,2015.0,2016.0,2017.0,2018.0,2019.0,2020.0,2013.0,2014.0,2015.0,2016.0,2017.0,2018.0,2019.0,2020.0,2018.0,2013.0,2014.0,2017.0,2018.0,2019.0,2019.0,2016.0,2018.0,2019.0,2013.0,2014.0,2015.0,2016.0,2017.0,2018.0,2019.0,2020.0,2013.0,2014.0,2015.0,2016.0,2017.0,2018.0,2019.0,2020.0,2013.0,2014.0,2016.0,2017.0,2018.0,2013.0,2014.0,2015.0,2016.0,2017.0,2018.0,2019.0,2013.0,2014.0,2015.0,2016.0,2017.0,2018.0,2019.0,2020.0,2013.0,2014.0,2015.0,2016.0,2017.0,2018.0,2019.0,2013.0,2014.0,2015.0,2016.0,2017.0,2018.0,2019.0,2020.0,2013.0,2014.0,2015.0,2016.0,2017.0,2018.0,2019.0,2013.0,2014.0,2015.0,2016.0,2017.0,2018.0,2019.0,2020.0,2014.0,2017.0,2018.0,2013.0,2014.0,2015.0,2016.0,2017.0,2018.0,2019.0,2020.0]},\"name\":\"\",\"parents\":[\"2013\",\"2014\",\"2015\",\"2016\",\"2017\",\"2018\",\"2019\",\"2020\",\"2013\",\"2014\",\"2015\",\"2016\",\"2017\",\"2018\",\"2019\",\"2013\",\"2014\",\"2015\",\"2016\",\"2017\",\"2014\",\"2015\",\"2016\",\"2017\",\"2018\",\"2019\",\"2013\",\"2014\",\"2015\",\"2016\",\"2017\",\"2018\",\"2014\",\"2013\",\"2014\",\"2015\",\"2016\",\"2017\",\"2018\",\"2019\",\"2020\",\"2013\",\"2014\",\"2015\",\"2016\",\"2017\",\"2018\",\"2019\",\"2020\",\"2013\",\"2014\",\"2015\",\"2016\",\"2017\",\"2018\",\"2019\",\"2020\",\"2018\",\"2013\",\"2014\",\"2017\",\"2018\",\"2019\",\"2019\",\"2016\",\"2018\",\"2019\",\"2013\",\"2014\",\"2015\",\"2016\",\"2017\",\"2018\",\"2019\",\"2020\",\"2013\",\"2014\",\"2015\",\"2016\",\"2017\",\"2018\",\"2019\",\"2020\",\"2013\",\"2014\",\"2016\",\"2017\",\"2018\",\"2013\",\"2014\",\"2015\",\"2016\",\"2017\",\"2018\",\"2019\",\"2013\",\"2014\",\"2015\",\"2016\",\"2017\",\"2018\",\"2019\",\"2020\",\"2013\",\"2014\",\"2015\",\"2016\",\"2017\",\"2018\",\"2019\",\"2013\",\"2014\",\"2015\",\"2016\",\"2017\",\"2018\",\"2019\",\"2020\",\"2013\",\"2014\",\"2015\",\"2016\",\"2017\",\"2018\",\"2019\",\"2013\",\"2014\",\"2015\",\"2016\",\"2017\",\"2018\",\"2019\",\"2020\",\"2014\",\"2017\",\"2018\",\"\",\"\",\"\",\"\",\"\",\"\",\"\",\"\"],\"values\":[48312,16112,10075,2016,2017,10090,2019,2020,4026,4028,2015,2016,12102,4036,28266,34221,36252,30225,42336,2017,4028,18135,8064,26221,16144,2019,6039,12084,8060,2016,2017,4036,2014,28182,48336,38285,32256,62527,44396,26247,26260,26169,84588,50375,48384,62527,82738,10095,4040,84546,108756,189410,165312,197666,141260,86817,20200,2018,2013,2014,2017,2018,2019,2019,2016,4036,4038,50325,66462,78585,76608,68578,78702,32304,6060,92598,193344,261950,209664,286414,211890,129216,26260,8052,8056,2016,2017,26234,24156,26182,18135,10080,10085,2018,4038,50325,12084,36270,40320,70595,28252,12114,4040,12078,10070,12090,2016,10085,2018,2019,46299,46322,36270,36288,32272,50450,38361,6060,26169,44308,40300,30240,60510,20180,6057,20130,12084,18135,8064,28238,6054,6057,2020,2014,2017,2018,563640,739138,848315,719712,939922,738588,393705,96960],\"type\":\"sunburst\"}],                        {\"template\":{\"data\":{\"histogram2dcontour\":[{\"type\":\"histogram2dcontour\",\"colorbar\":{\"outlinewidth\":0,\"ticks\":\"\"},\"colorscale\":[[0.0,\"#0d0887\"],[0.1111111111111111,\"#46039f\"],[0.2222222222222222,\"#7201a8\"],[0.3333333333333333,\"#9c179e\"],[0.4444444444444444,\"#bd3786\"],[0.5555555555555556,\"#d8576b\"],[0.6666666666666666,\"#ed7953\"],[0.7777777777777778,\"#fb9f3a\"],[0.8888888888888888,\"#fdca26\"],[1.0,\"#f0f921\"]]}],\"choropleth\":[{\"type\":\"choropleth\",\"colorbar\":{\"outlinewidth\":0,\"ticks\":\"\"}}],\"histogram2d\":[{\"type\":\"histogram2d\",\"colorbar\":{\"outlinewidth\":0,\"ticks\":\"\"},\"colorscale\":[[0.0,\"#0d0887\"],[0.1111111111111111,\"#46039f\"],[0.2222222222222222,\"#7201a8\"],[0.3333333333333333,\"#9c179e\"],[0.4444444444444444,\"#bd3786\"],[0.5555555555555556,\"#d8576b\"],[0.6666666666666666,\"#ed7953\"],[0.7777777777777778,\"#fb9f3a\"],[0.8888888888888888,\"#fdca26\"],[1.0,\"#f0f921\"]]}],\"heatmap\":[{\"type\":\"heatmap\",\"colorbar\":{\"outlinewidth\":0,\"ticks\":\"\"},\"colorscale\":[[0.0,\"#0d0887\"],[0.1111111111111111,\"#46039f\"],[0.2222222222222222,\"#7201a8\"],[0.3333333333333333,\"#9c179e\"],[0.4444444444444444,\"#bd3786\"],[0.5555555555555556,\"#d8576b\"],[0.6666666666666666,\"#ed7953\"],[0.7777777777777778,\"#fb9f3a\"],[0.8888888888888888,\"#fdca26\"],[1.0,\"#f0f921\"]]}],\"heatmapgl\":[{\"type\":\"heatmapgl\",\"colorbar\":{\"outlinewidth\":0,\"ticks\":\"\"},\"colorscale\":[[0.0,\"#0d0887\"],[0.1111111111111111,\"#46039f\"],[0.2222222222222222,\"#7201a8\"],[0.3333333333333333,\"#9c179e\"],[0.4444444444444444,\"#bd3786\"],[0.5555555555555556,\"#d8576b\"],[0.6666666666666666,\"#ed7953\"],[0.7777777777777778,\"#fb9f3a\"],[0.8888888888888888,\"#fdca26\"],[1.0,\"#f0f921\"]]}],\"contourcarpet\":[{\"type\":\"contourcarpet\",\"colorbar\":{\"outlinewidth\":0,\"ticks\":\"\"}}],\"contour\":[{\"type\":\"contour\",\"colorbar\":{\"outlinewidth\":0,\"ticks\":\"\"},\"colorscale\":[[0.0,\"#0d0887\"],[0.1111111111111111,\"#46039f\"],[0.2222222222222222,\"#7201a8\"],[0.3333333333333333,\"#9c179e\"],[0.4444444444444444,\"#bd3786\"],[0.5555555555555556,\"#d8576b\"],[0.6666666666666666,\"#ed7953\"],[0.7777777777777778,\"#fb9f3a\"],[0.8888888888888888,\"#fdca26\"],[1.0,\"#f0f921\"]]}],\"surface\":[{\"type\":\"surface\",\"colorbar\":{\"outlinewidth\":0,\"ticks\":\"\"},\"colorscale\":[[0.0,\"#0d0887\"],[0.1111111111111111,\"#46039f\"],[0.2222222222222222,\"#7201a8\"],[0.3333333333333333,\"#9c179e\"],[0.4444444444444444,\"#bd3786\"],[0.5555555555555556,\"#d8576b\"],[0.6666666666666666,\"#ed7953\"],[0.7777777777777778,\"#fb9f3a\"],[0.8888888888888888,\"#fdca26\"],[1.0,\"#f0f921\"]]}],\"mesh3d\":[{\"type\":\"mesh3d\",\"colorbar\":{\"outlinewidth\":0,\"ticks\":\"\"}}],\"scatter\":[{\"fillpattern\":{\"fillmode\":\"overlay\",\"size\":10,\"solidity\":0.2},\"type\":\"scatter\"}],\"parcoords\":[{\"type\":\"parcoords\",\"line\":{\"colorbar\":{\"outlinewidth\":0,\"ticks\":\"\"}}}],\"scatterpolargl\":[{\"type\":\"scatterpolargl\",\"marker\":{\"colorbar\":{\"outlinewidth\":0,\"ticks\":\"\"}}}],\"bar\":[{\"error_x\":{\"color\":\"#2a3f5f\"},\"error_y\":{\"color\":\"#2a3f5f\"},\"marker\":{\"line\":{\"color\":\"#E5ECF6\",\"width\":0.5},\"pattern\":{\"fillmode\":\"overlay\",\"size\":10,\"solidity\":0.2}},\"type\":\"bar\"}],\"scattergeo\":[{\"type\":\"scattergeo\",\"marker\":{\"colorbar\":{\"outlinewidth\":0,\"ticks\":\"\"}}}],\"scatterpolar\":[{\"type\":\"scatterpolar\",\"marker\":{\"colorbar\":{\"outlinewidth\":0,\"ticks\":\"\"}}}],\"histogram\":[{\"marker\":{\"pattern\":{\"fillmode\":\"overlay\",\"size\":10,\"solidity\":0.2}},\"type\":\"histogram\"}],\"scattergl\":[{\"type\":\"scattergl\",\"marker\":{\"colorbar\":{\"outlinewidth\":0,\"ticks\":\"\"}}}],\"scatter3d\":[{\"type\":\"scatter3d\",\"line\":{\"colorbar\":{\"outlinewidth\":0,\"ticks\":\"\"}},\"marker\":{\"colorbar\":{\"outlinewidth\":0,\"ticks\":\"\"}}}],\"scattermapbox\":[{\"type\":\"scattermapbox\",\"marker\":{\"colorbar\":{\"outlinewidth\":0,\"ticks\":\"\"}}}],\"scatterternary\":[{\"type\":\"scatterternary\",\"marker\":{\"colorbar\":{\"outlinewidth\":0,\"ticks\":\"\"}}}],\"scattercarpet\":[{\"type\":\"scattercarpet\",\"marker\":{\"colorbar\":{\"outlinewidth\":0,\"ticks\":\"\"}}}],\"carpet\":[{\"aaxis\":{\"endlinecolor\":\"#2a3f5f\",\"gridcolor\":\"white\",\"linecolor\":\"white\",\"minorgridcolor\":\"white\",\"startlinecolor\":\"#2a3f5f\"},\"baxis\":{\"endlinecolor\":\"#2a3f5f\",\"gridcolor\":\"white\",\"linecolor\":\"white\",\"minorgridcolor\":\"white\",\"startlinecolor\":\"#2a3f5f\"},\"type\":\"carpet\"}],\"table\":[{\"cells\":{\"fill\":{\"color\":\"#EBF0F8\"},\"line\":{\"color\":\"white\"}},\"header\":{\"fill\":{\"color\":\"#C8D4E3\"},\"line\":{\"color\":\"white\"}},\"type\":\"table\"}],\"barpolar\":[{\"marker\":{\"line\":{\"color\":\"#E5ECF6\",\"width\":0.5},\"pattern\":{\"fillmode\":\"overlay\",\"size\":10,\"solidity\":0.2}},\"type\":\"barpolar\"}],\"pie\":[{\"automargin\":true,\"type\":\"pie\"}]},\"layout\":{\"autotypenumbers\":\"strict\",\"colorway\":[\"#636efa\",\"#EF553B\",\"#00cc96\",\"#ab63fa\",\"#FFA15A\",\"#19d3f3\",\"#FF6692\",\"#B6E880\",\"#FF97FF\",\"#FECB52\"],\"font\":{\"color\":\"#2a3f5f\"},\"hovermode\":\"closest\",\"hoverlabel\":{\"align\":\"left\"},\"paper_bgcolor\":\"white\",\"plot_bgcolor\":\"#E5ECF6\",\"polar\":{\"bgcolor\":\"#E5ECF6\",\"angularaxis\":{\"gridcolor\":\"white\",\"linecolor\":\"white\",\"ticks\":\"\"},\"radialaxis\":{\"gridcolor\":\"white\",\"linecolor\":\"white\",\"ticks\":\"\"}},\"ternary\":{\"bgcolor\":\"#E5ECF6\",\"aaxis\":{\"gridcolor\":\"white\",\"linecolor\":\"white\",\"ticks\":\"\"},\"baxis\":{\"gridcolor\":\"white\",\"linecolor\":\"white\",\"ticks\":\"\"},\"caxis\":{\"gridcolor\":\"white\",\"linecolor\":\"white\",\"ticks\":\"\"}},\"coloraxis\":{\"colorbar\":{\"outlinewidth\":0,\"ticks\":\"\"}},\"colorscale\":{\"sequential\":[[0.0,\"#0d0887\"],[0.1111111111111111,\"#46039f\"],[0.2222222222222222,\"#7201a8\"],[0.3333333333333333,\"#9c179e\"],[0.4444444444444444,\"#bd3786\"],[0.5555555555555556,\"#d8576b\"],[0.6666666666666666,\"#ed7953\"],[0.7777777777777778,\"#fb9f3a\"],[0.8888888888888888,\"#fdca26\"],[1.0,\"#f0f921\"]],\"sequentialminus\":[[0.0,\"#0d0887\"],[0.1111111111111111,\"#46039f\"],[0.2222222222222222,\"#7201a8\"],[0.3333333333333333,\"#9c179e\"],[0.4444444444444444,\"#bd3786\"],[0.5555555555555556,\"#d8576b\"],[0.6666666666666666,\"#ed7953\"],[0.7777777777777778,\"#fb9f3a\"],[0.8888888888888888,\"#fdca26\"],[1.0,\"#f0f921\"]],\"diverging\":[[0,\"#8e0152\"],[0.1,\"#c51b7d\"],[0.2,\"#de77ae\"],[0.3,\"#f1b6da\"],[0.4,\"#fde0ef\"],[0.5,\"#f7f7f7\"],[0.6,\"#e6f5d0\"],[0.7,\"#b8e186\"],[0.8,\"#7fbc41\"],[0.9,\"#4d9221\"],[1,\"#276419\"]]},\"xaxis\":{\"gridcolor\":\"white\",\"linecolor\":\"white\",\"ticks\":\"\",\"title\":{\"standoff\":15},\"zerolinecolor\":\"white\",\"automargin\":true,\"zerolinewidth\":2},\"yaxis\":{\"gridcolor\":\"white\",\"linecolor\":\"white\",\"ticks\":\"\",\"title\":{\"standoff\":15},\"zerolinecolor\":\"white\",\"automargin\":true,\"zerolinewidth\":2},\"scene\":{\"xaxis\":{\"backgroundcolor\":\"#E5ECF6\",\"gridcolor\":\"white\",\"linecolor\":\"white\",\"showbackground\":true,\"ticks\":\"\",\"zerolinecolor\":\"white\",\"gridwidth\":2},\"yaxis\":{\"backgroundcolor\":\"#E5ECF6\",\"gridcolor\":\"white\",\"linecolor\":\"white\",\"showbackground\":true,\"ticks\":\"\",\"zerolinecolor\":\"white\",\"gridwidth\":2},\"zaxis\":{\"backgroundcolor\":\"#E5ECF6\",\"gridcolor\":\"white\",\"linecolor\":\"white\",\"showbackground\":true,\"ticks\":\"\",\"zerolinecolor\":\"white\",\"gridwidth\":2}},\"shapedefaults\":{\"line\":{\"color\":\"#2a3f5f\"}},\"annotationdefaults\":{\"arrowcolor\":\"#2a3f5f\",\"arrowhead\":0,\"arrowwidth\":1},\"geo\":{\"bgcolor\":\"white\",\"landcolor\":\"#E5ECF6\",\"subunitcolor\":\"white\",\"showland\":true,\"showlakes\":true,\"lakecolor\":\"white\"},\"title\":{\"x\":0.05},\"mapbox\":{\"style\":\"light\"}}},\"coloraxis\":{\"colorbar\":{\"title\":{\"text\":\"year\"}},\"colorscale\":[[0.0,\"#0d0887\"],[0.1111111111111111,\"#46039f\"],[0.2222222222222222,\"#7201a8\"],[0.3333333333333333,\"#9c179e\"],[0.4444444444444444,\"#bd3786\"],[0.5555555555555556,\"#d8576b\"],[0.6666666666666666,\"#ed7953\"],[0.7777777777777778,\"#fb9f3a\"],[0.8888888888888888,\"#fdca26\"],[1.0,\"#f0f921\"]]},\"legend\":{\"tracegroupgap\":0},\"margin\":{\"t\":60}},                        {\"responsive\": true}                    ).then(function(){\n",
       "                            \n",
       "var gd = document.getElementById('b9827b44-5f0a-4ce5-ab09-21ea47a131ff');\n",
       "var x = new MutationObserver(function (mutations, observer) {{\n",
       "        var display = window.getComputedStyle(gd).display;\n",
       "        if (!display || display === 'none') {{\n",
       "            console.log([gd, 'removed!']);\n",
       "            Plotly.purge(gd);\n",
       "            observer.disconnect();\n",
       "        }}\n",
       "}});\n",
       "\n",
       "// Listen for the removal of the full notebook cells\n",
       "var notebookContainer = gd.closest('#notebook-container');\n",
       "if (notebookContainer) {{\n",
       "    x.observe(notebookContainer, {childList: true});\n",
       "}}\n",
       "\n",
       "// Listen for the clearing of the current output cell\n",
       "var outputEl = gd.closest('.output');\n",
       "if (outputEl) {{\n",
       "    x.observe(outputEl, {childList: true});\n",
       "}}\n",
       "\n",
       "                        })                };                });            </script>        </div>"
      ]
     },
     "metadata": {},
     "output_type": "display_data"
    }
   ],
   "source": [
    "joint_data=df.sort_values(by='year', ascending=False)\n",
    "\n",
    "top_rated=joint_data[:2500]\n",
    "fig =px.sunburst(\n",
    "    top_rated,\n",
    "    path=['year',\"name_2\"],\n",
    "    values='year',\n",
    "    color='year')\n",
    "fig.show()"
   ]
  },
  {
   "cell_type": "code",
   "execution_count": 109,
   "id": "c8e1453c",
   "metadata": {},
   "outputs": [
    {
     "data": {
      "image/png": "[encoded data removed]",
      "text/plain": [
       "<Figure size 864x576 with 1 Axes>"
      ]
     },
     "metadata": {
      "needs_background": "light"
     },
     "output_type": "display_data"
    }
   ],
   "source": [
    "plt.figure(figsize=(12, 8))\n",
    "sns.countplot(x='name_2', hue='transmission', data=df, palette='Set2')\n",
    "plt.title('Transmission by Name')\n",
    "plt.xlabel('Name of Car')\n",
    "plt.ylabel('Count')\n",
    "plt.xticks(rotation=90)\n",
    "plt.legend(title='Transmission')\n",
    "plt.show()\n"
   ]
  },
  {
   "cell_type": "code",
   "execution_count": null,
   "id": "94f224e6",
   "metadata": {},
   "outputs": [],
   "source": []
  }
 ],
 "metadata": {
  "kernelspec": {
   "display_name": "Python 3 (ipykernel)",
   "language": "python",
   "name": "python3"
  },
  "language_info": {
   "codemirror_mode": {
    "name": "ipython",
    "version": 3
   },
   "file_extension": ".py",
   "mimetype": "text/x-python",
   "name": "python",
   "nbconvert_exporter": "python",
   "pygments_lexer": "ipython3",
   "version": "3.9.7"
  }
 },
 "nbformat": 4,
 "nbformat_minor": 5
}
